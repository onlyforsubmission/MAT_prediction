{
 "cells": [
  {
   "cell_type": "code",
   "execution_count": 1,
   "id": "6f0b1575",
   "metadata": {},
   "outputs": [],
   "source": [
    "import pandas as pd\n",
    "from scipy.spatial.distance import cosine\n",
    "from scipy import stats\n",
    "import torch\n",
    "from transformers import BertTokenizer, BertModel\n",
    "import matplotlib.pyplot as plt"
   ]
  },
  {
   "cell_type": "code",
   "execution_count": 2,
   "id": "5b21da7f",
   "metadata": {},
   "outputs": [
    {
     "name": "stderr",
     "output_type": "stream",
     "text": [
      "Some weights of the model checkpoint at C:/Users/Lenovo/Desktop/EnergyBERT/mat_bert_cased were not used when initializing BertModel: ['cls.predictions.transform.dense.bias', 'cls.predictions.transform.LayerNorm.bias', 'cls.predictions.decoder.bias', 'cls.predictions.bias', 'cls.predictions.transform.dense.weight', 'cls.predictions.decoder.weight', 'cls.predictions.transform.LayerNorm.weight']\n",
      "- This IS expected if you are initializing BertModel from the checkpoint of a model trained on another task or with another architecture (e.g. initializing a BertForSequenceClassification model from a BertForPreTraining model).\n",
      "- This IS NOT expected if you are initializing BertModel from the checkpoint of a model that you expect to be exactly identical (initializing a BertForSequenceClassification model from a BertForSequenceClassification model).\n",
      "Some weights of BertModel were not initialized from the model checkpoint at C:/Users/Lenovo/Desktop/EnergyBERT/mat_bert_cased and are newly initialized: ['bert.pooler.dense.weight', 'bert.pooler.dense.bias']\n",
      "You should probably TRAIN this model on a down-stream task to be able to use it for predictions and inference.\n"
     ]
    }
   ],
   "source": [
    "# C:/Users/Lenovo/Desktop/EnergyBERT/mat_bert_cased\n",
    "# bert-cased\n",
    "tokenizer = BertTokenizer.from_pretrained('C:/Users/Lenovo/Desktop/EnergyBERT/mat_bert_cased', do_lower_case=False)\n",
    "model = BertModel.from_pretrained('C:/Users/Lenovo/Desktop/EnergyBERT/mat_bert_cased', output_hidden_states=True).eval()"
   ]
  },
  {
   "cell_type": "code",
   "execution_count": 19,
   "id": "af738f0a",
   "metadata": {},
   "outputs": [],
   "source": [
    "def get_embedding(text, tokenizer, model):\n",
    "    tokenized_text = tokenizer.tokenize(text)\n",
    "    need_idx = []\n",
    "    for i in range(len(tokenized_text)):\n",
    "        need_idx.append(i)\n",
    "    indexed_tokens = tokenizer.convert_tokens_to_ids(tokenized_text)\n",
    "    tokens_tensor = torch.tensor([indexed_tokens])\n",
    "    with torch.no_grad():\n",
    "        outputs = model(tokens_tensor)\n",
    "        # hidden_states has 4 dimensions: 13 layer, 1 batch, x token number, 768 hidden unit\n",
    "        hidden_states = outputs[2]\n",
    "    token_embeddings = torch.stack(hidden_states, dim=0)\n",
    "    # remove batch dimension\n",
    "    token_embeddings = torch.squeeze(token_embeddings, dim=1)\n",
    "    # size: x token, 13 layer, 768 hidden unit\n",
    "    token_embeddings = token_embeddings.permute(1,0,2)\n",
    "    token_vecs_sum = []\n",
    "    for token in token_embeddings:\n",
    "        # last 4 layer\n",
    "        sum_vec = torch.sum(token[2:3], dim=0)\n",
    "        # sum_vec: [768]\n",
    "        token_vecs_sum.append(sum_vec)\n",
    "    embeddings = []\n",
    "    for i in need_idx:\n",
    "        embeddings.append(token_vecs_sum[i])\n",
    "    sentence_embedding = torch.mean(torch.stack(embeddings), 0)\n",
    "    return sentence_embedding"
   ]
  },
  {
   "cell_type": "code",
   "execution_count": 20,
   "id": "11671c6a",
   "metadata": {},
   "outputs": [],
   "source": [
    "file_path = 'for_spearman/'\n",
    "file_name = 'zt_ori_84.txt'"
   ]
  },
  {
   "cell_type": "code",
   "execution_count": 21,
   "id": "78d5256e",
   "metadata": {},
   "outputs": [],
   "source": [
    "df = pd.read_csv(file_path+file_name, sep='\\t', header=None, names=['name', 'value'])"
   ]
  },
  {
   "cell_type": "code",
   "execution_count": 24,
   "id": "7d437a1b",
   "metadata": {},
   "outputs": [],
   "source": [
    "thermoelectric_embedding = get_embedding(\"thermoelectric\", tokenizer, model) # thermoelectric"
   ]
  },
  {
   "cell_type": "code",
   "execution_count": 25,
   "id": "78e8118a",
   "metadata": {},
   "outputs": [],
   "source": [
    "from tqdm import tqdm\n",
    "record = {}\n",
    "for i, n in enumerate(df['name']):\n",
    "    similarity = 1 - cosine(get_embedding(n, tokenizer, model), thermoelectric_embedding)\n",
    "    token_num = len(tokenizer.tokenize(n))\n",
    "    record[n] = {}\n",
    "    record[n]['sim'] = similarity\n",
    "    record[n]['token_num'] = token_num\n",
    "    record[n]['thermo_rank'] = i+1"
   ]
  },
  {
   "cell_type": "code",
   "execution_count": 26,
   "id": "cf3238d5",
   "metadata": {},
   "outputs": [
    {
     "name": "stdout",
     "output_type": "stream",
     "text": [
      "[('Bi2Te3', {'sim': 0.7727129459381104, 'token_num': 1, 'thermo_rank': 15, 'sim_rank': 1}), ('In2O3', {'sim': 0.6307909488677979, 'token_num': 1, 'thermo_rank': 59, 'sim_rank': 2}), ('Sb2Te3', {'sim': 0.6212441325187683, 'token_num': 2, 'thermo_rank': 42, 'sim_rank': 3}), ('ZnO', {'sim': 0.5863296389579773, 'token_num': 1, 'thermo_rank': 82, 'sim_rank': 4}), ('LaCoO3', {'sim': 0.5468387007713318, 'token_num': 2, 'thermo_rank': 83, 'sim_rank': 5})]\n"
     ]
    }
   ],
   "source": [
    "sorted_record = sorted(record.items(), key=lambda item:item[1]['sim'], reverse=True)\n",
    "for_comparison = [i+1 for i in range(len(df['name']))]\n",
    "comparison = []\n",
    "for n in df['name']:\n",
    "    for i, x in enumerate(sorted_record):\n",
    "        if n == x[0]:\n",
    "            comparison.append(i+1)\n",
    "            record[n]['sim_rank'] = i+1\n",
    "print(sorted_record[:5])"
   ]
  },
  {
   "cell_type": "code",
   "execution_count": 27,
   "id": "42d8b0ee",
   "metadata": {},
   "outputs": [
    {
     "name": "stdout",
     "output_type": "stream",
     "text": [
      "SpearmanrResult(correlation=0.17071985420674296, pvalue=0.12050663789897764)\n"
     ]
    }
   ],
   "source": [
    "res = stats.spearmanr(for_comparison, comparison)\n",
    "print(res)"
   ]
  },
  {
   "cell_type": "code",
   "execution_count": 28,
   "id": "6765cc0d",
   "metadata": {},
   "outputs": [
    {
     "name": "stdout",
     "output_type": "stream",
     "text": [
      "[9, 15, 43, 82, 8, 52, 37, 25, 38, 51, 24, 19, 56, 44, 1, 20, 53, 62, 45, 80, 55, 12, 57, 33, 10, 16, 46, 42, 11, 17, 65, 36, 22, 21, 30, 84, 63, 81, 74, 23, 64, 3, 27, 41, 35, 68, 32, 47, 7, 50, 76, 58, 28, 61, 18, 60, 83, 75, 2, 6, 79, 73, 31, 66, 29, 54, 39, 72, 49, 77, 40, 71, 34, 26, 70, 13, 78, 14, 48, 59, 67, 4, 5, 69]\n",
      "[2, 7, 13, 6, 2, 9, 7, 8, 4, 13, 4, 5, 3, 5, 1, 3, 4, 10, 7, 9, 9, 5, 8, 5, 5, 5, 10, 9, 2, 3, 6, 3, 13, 9, 9, 10, 10, 7, 7, 10, 7, 2, 9, 9, 10, 9, 9, 10, 3, 7, 10, 4, 6, 10, 4, 3, 10, 7, 1, 4, 5, 5, 7, 10, 7, 6, 10, 10, 9, 10, 3, 5, 7, 4, 10, 5, 4, 8, 9, 3, 8, 1, 2, 7]\n",
      "SpearmanrResult(correlation=0.4605319116529, pvalue=1.0435685223274476e-05)\n"
     ]
    }
   ],
   "source": [
    "sim_rank = []\n",
    "token_num = []\n",
    "for i in record.keys():\n",
    "    sim_rank.append(record[i]['sim_rank'])\n",
    "    token_num.append(record[i]['token_num'])\n",
    "print(sim_rank)\n",
    "print(token_num)\n",
    "res = stats.spearmanr(sim_rank, token_num)\n",
    "print(res)"
   ]
  },
  {
   "cell_type": "code",
   "execution_count": 165,
   "id": "771d1717",
   "metadata": {},
   "outputs": [
    {
     "name": "stdout",
     "output_type": "stream",
     "text": [
      "16\n",
      "SpearmanrResult(correlation=0.3529411764705882, pvalue=0.17995865788498183)\n"
     ]
    }
   ],
   "source": [
    "for_comparison = []\n",
    "comparison = []\n",
    "for i in record.keys():\n",
    "    if record[i]['token_num'] < 4:\n",
    "        for_comparison.append(record[i]['thermo_rank'])\n",
    "        comparison.append(record[i]['sim_rank'])\n",
    "print(len(comparison))\n",
    "res = stats.spearmanr(for_comparison, comparison)\n",
    "print(res)"
   ]
  },
  {
   "cell_type": "code",
   "execution_count": 135,
   "id": "59769eee",
   "metadata": {},
   "outputs": [],
   "source": [
    "import json\n",
    "\n",
    "json_str = json.dumps(record, indent=4)\n",
    "with open('zt_84_bert.json', 'w', encoding='utf-8') as json_file:\n",
    "    json_file.write(json_str)"
   ]
  },
  {
   "cell_type": "markdown",
   "id": "1f18734e",
   "metadata": {},
   "source": [
    "# bert & matbert tokenizer comparison"
   ]
  },
  {
   "cell_type": "code",
   "execution_count": 459,
   "id": "9ee84618",
   "metadata": {},
   "outputs": [
    {
     "name": "stdout",
     "output_type": "stream",
     "text": [
      "[ 0.  1.  2.  3.  4.  5.  6.  7.  8.  9. 10. 11. 12. 13. 14. 15. 16. 17.\n",
      " 18. 19. 20.]\n"
     ]
    },
    {
     "data": {
      "image/png": "[encoded data removed]",
      "text/plain": [
       "<Figure size 1080x720 with 1 Axes>"
      ]
     },
     "metadata": {
      "needs_background": "light"
     },
     "output_type": "display_data"
    }
   ],
   "source": [
    "import numpy\n",
    "tmp_list_bert = []\n",
    "tmp_list_matbert = []\n",
    "bert_tokenizer = BertTokenizer.from_pretrained('bert-base-cased', do_lower_case=False)\n",
    "matbert_tokenizer = BertTokenizer.from_pretrained('C:/Users/Lenovo/Desktop/EnergyBERT/mat_bert_cased', do_lower_case=False)\n",
    "for n in df['name']:\n",
    "    tokenized_text = bert_tokenizer.tokenize(n)    \n",
    "    tmp_list_bert.append(len(tokenized_text))\n",
    "    tokenized_text = matbert_tokenizer.tokenize(n)\n",
    "    tmp_list_matbert.append(len(tokenized_text))\n",
    "    \n",
    "bins = numpy.linspace(0, 20, 21, endpoint=True)\n",
    "print(bins)\n",
    "plt.figure(figsize=(15,10))\n",
    "plt.hist(tmp_list_matbert, bins, alpha=0.5, label='MatBERT')\n",
    "plt.hist(tmp_list_bert, bins, alpha=0.5, label='BERT')\n",
    "# plt.margins(0.1, 0.1)\n",
    "plt.legend(loc='upper right', fontsize=\"20\")\n",
    "x = range(0,22,2)\n",
    "plt.xticks(x)\n",
    "plt.tick_params(labelsize=20)\n",
    "plt.savefig('_idx.png',dpi=300)\n",
    "plt.show()"
   ]
  },
  {
   "cell_type": "markdown",
   "id": "d42c34fc",
   "metadata": {},
   "source": [
    "# experimental results & token correlation"
   ]
  },
  {
   "cell_type": "code",
   "execution_count": 167,
   "id": "59d291a2",
   "metadata": {},
   "outputs": [
    {
     "name": "stdout",
     "output_type": "stream",
     "text": [
      "SpearmanrResult(correlation=0.015477920774031265, pvalue=0.888865214941374)\n"
     ]
    }
   ],
   "source": [
    "for_comparison = []\n",
    "comparison = []\n",
    "for i in record.keys():\n",
    "    for_comparison.append(record[i]['thermo_rank'])\n",
    "    comparison.append(record[i]['token_num'])\n",
    "\n",
    "res = stats.spearmanr(for_comparison, comparison)\n",
    "print(res)"
   ]
  },
  {
   "cell_type": "code",
   "execution_count": null,
   "id": "abdec9da",
   "metadata": {},
   "outputs": [],
   "source": []
  }
 ],
 "metadata": {
  "kernelspec": {
   "display_name": "Python 3",
   "language": "python",
   "name": "python3"
  },
  "language_info": {
   "codemirror_mode": {
    "name": "ipython",
    "version": 3
   },
   "file_extension": ".py",
   "mimetype": "text/x-python",
   "name": "python",
   "nbconvert_exporter": "python",
   "pygments_lexer": "ipython3",
   "version": "3.6.13"
  }
 },
 "nbformat": 4,
 "nbformat_minor": 5
}
