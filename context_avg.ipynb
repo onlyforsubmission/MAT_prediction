{
 "cells": [
  {
   "cell_type": "code",
   "execution_count": 146,
   "id": "c91db5cd",
   "metadata": {},
   "outputs": [],
   "source": [
    "import pandas as pd\n",
    "from scipy.spatial.distance import cosine\n",
    "from scipy import stats\n",
    "import torch\n",
    "from transformers import BertTokenizer, BertModel\n",
    "import matplotlib.pyplot as plt"
   ]
  },
  {
   "cell_type": "code",
   "execution_count": 147,
   "id": "10fe30a1",
   "metadata": {},
   "outputs": [],
   "source": [
    "def find_token(mat, tok_sen):\n",
    "    candidate = []\n",
    "    for i, t in enumerate(tok_sen):\n",
    "        if mat.startswith(t):\n",
    "            idx = [i]\n",
    "            can = t\n",
    "            tmp = i\n",
    "            if can == mat:\n",
    "                candidate.extend(idx)\n",
    "            if i == len(tok_sen) - 1:\n",
    "                break\n",
    "            while True:\n",
    "                can += tok_sen[tmp + 1].replace('##', '')\n",
    "                if not mat.startswith(can):\n",
    "                    break\n",
    "                idx.append(tmp + 1)\n",
    "                if can == mat:\n",
    "                    candidate.extend(idx)\n",
    "                    break\n",
    "                if tmp == len(tok_sen) - 2:\n",
    "                    break\n",
    "                else:\n",
    "                    tmp += 1\n",
    "    return candidate"
   ]
  },
  {
   "cell_type": "code",
   "execution_count": 148,
   "id": "e6222ad6",
   "metadata": {},
   "outputs": [
    {
     "name": "stderr",
     "output_type": "stream",
     "text": [
      "Some weights of the model checkpoint at C:/Users/Lenovo/Desktop/EnergyBERT/mat_bert_cased were not used when initializing BertModel: ['cls.predictions.transform.LayerNorm.weight', 'cls.predictions.transform.LayerNorm.bias', 'cls.predictions.bias', 'cls.predictions.decoder.bias', 'cls.predictions.transform.dense.bias', 'cls.predictions.transform.dense.weight', 'cls.predictions.decoder.weight']\n",
      "- This IS expected if you are initializing BertModel from the checkpoint of a model trained on another task or with another architecture (e.g. initializing a BertForSequenceClassification model from a BertForPreTraining model).\n",
      "- This IS NOT expected if you are initializing BertModel from the checkpoint of a model that you expect to be exactly identical (initializing a BertForSequenceClassification model from a BertForSequenceClassification model).\n",
      "Some weights of BertModel were not initialized from the model checkpoint at C:/Users/Lenovo/Desktop/EnergyBERT/mat_bert_cased and are newly initialized: ['bert.pooler.dense.bias', 'bert.pooler.dense.weight']\n",
      "You should probably TRAIN this model on a down-stream task to be able to use it for predictions and inference.\n"
     ]
    }
   ],
   "source": [
    "# C:/Users/Lenovo/Desktop/EnergyBERT/mat_bert_cased\n",
    "# bert-cased\n",
    "tokenizer = BertTokenizer.from_pretrained('C:/Users/Lenovo/Desktop/EnergyBERT/mat_bert_cased', do_lower_case=False)\n",
    "model = BertModel.from_pretrained('C:/Users/Lenovo/Desktop/EnergyBERT/mat_bert_cased', output_hidden_states=True).eval()"
   ]
  },
  {
   "cell_type": "code",
   "execution_count": 149,
   "id": "6adbfa6b",
   "metadata": {},
   "outputs": [],
   "source": [
    "def get_embedding(mat, text, tokenizer, model):\n",
    "    tokenized_text = tokenizer.tokenize(text)\n",
    "    need_idx = find_token(mat, tokenized_text)\n",
    "    if len(need_idx)==0:\n",
    "        return False\n",
    "    indexed_tokens = tokenizer.convert_tokens_to_ids(tokenized_text)\n",
    "    tokens_tensor = torch.tensor([indexed_tokens])\n",
    "    with torch.no_grad():\n",
    "        outputs = model(tokens_tensor)\n",
    "        # hidden_states has 4 dimensions: 13 layer, 1 batch, x token number, 768 hidden unit\n",
    "        hidden_states = outputs[2]\n",
    "    token_embeddings = torch.stack(hidden_states, dim=0)\n",
    "    # remove batch dimension\n",
    "    token_embeddings = torch.squeeze(token_embeddings, dim=1)\n",
    "    # size: x token, 13 layer, 768 hidden unit\n",
    "    token_embeddings = token_embeddings.permute(1,0,2)\n",
    "    token_vecs_sum = []\n",
    "    for token in token_embeddings:\n",
    "        # last 4 layer\n",
    "        sum_vec = torch.sum(token[2:3], dim=0)\n",
    "        # sum_vec: [768]\n",
    "        token_vecs_sum.append(sum_vec)\n",
    "    embeddings = []\n",
    "    for i in need_idx:\n",
    "        embeddings.append(token_vecs_sum[i])\n",
    "    sentence_embedding = torch.mean(torch.stack(embeddings), 0)\n",
    "    return sentence_embedding"
   ]
  },
  {
   "cell_type": "code",
   "execution_count": 150,
   "id": "b25aea09",
   "metadata": {},
   "outputs": [],
   "source": [
    "import random\n",
    "from tqdm import tqdm\n",
    "\n",
    "random.seed(0)\n",
    "\n",
    "def get_final_embedding(mat, tokenizer, model, zt_json):\n",
    "    tmp_embedding = []\n",
    "    for zj in zt_json.keys():\n",
    "        if mat == zt_json[zj]['ori']:\n",
    "            tmp_sentence = zt_json[zj]['sens']\n",
    "    if len(tmp_sentence)>100:\n",
    "        sentence = random.sample(tmp_sentence, 100)\n",
    "    else:\n",
    "        sentence = tmp_sentence\n",
    "    print(len(sentence), sentence[:5])\n",
    "    for ts in tqdm(sentence):\n",
    "        embedding = get_embedding(mat, ts, tokenizer, model)\n",
    "        if type(embedding)!=bool:\n",
    "            tmp_embedding.append(embedding)\n",
    "    if tmp_embedding==[]:\n",
    "        return get_embedding(mat, mat, tokenizer, model)\n",
    "    else:\n",
    "        return torch.mean(torch.stack(tmp_embedding), 0)"
   ]
  },
  {
   "cell_type": "code",
   "execution_count": 151,
   "id": "d0205795",
   "metadata": {},
   "outputs": [],
   "source": [
    "import json\n",
    "\n",
    "file_path = 'for_spearman/'\n",
    "file_name = 'zt_has_sen.txt'\n",
    "with open('zt_json.json', 'r', encoding='utf-8') as f:\n",
    "    zt_json = json.load(f)"
   ]
  },
  {
   "cell_type": "code",
   "execution_count": 152,
   "id": "3354ecb9",
   "metadata": {},
   "outputs": [],
   "source": [
    "df = pd.read_csv(file_path+file_name, sep='\\t', header=None, names=['name', 'value'])"
   ]
  },
  {
   "cell_type": "code",
   "execution_count": 153,
   "id": "5b470063",
   "metadata": {},
   "outputs": [
    {
     "name": "stderr",
     "output_type": "stream",
     "text": [
      "100%|██████████| 100/100 [00:07<00:00, 13.01it/s]\n"
     ]
    }
   ],
   "source": [
    "# thermoelectric_embedding = get_embedding(\"thermoelectric\", \"thermoelectric\", tokenizer, model)\n",
    "with open('context_zt/thermo_sens.json', 'r', encoding='utf-8') as f:\n",
    "    thermo_sen = json.load(f)\n",
    "thermo_sen = random.sample(thermo_sen, 100)\n",
    "tmp_embedding = []\n",
    "for ts in tqdm(thermo_sen):\n",
    "    embedding = get_embedding('thermoelectric', ts, tokenizer, model)\n",
    "    if type(embedding)!=bool:\n",
    "        tmp_embedding.append(embedding)\n",
    "thermoelectric_embedding = torch.mean(torch.stack(tmp_embedding), 0)"
   ]
  },
  {
   "cell_type": "code",
   "execution_count": 154,
   "id": "addaf975",
   "metadata": {},
   "outputs": [
    {
     "name": "stderr",
     "output_type": "stream",
     "text": [
      "  3%|▎         | 3/100 [00:00<00:04, 23.44it/s]"
     ]
    },
    {
     "name": "stdout",
     "output_type": "stream",
     "text": [
      "100 ['By using mechanical alloying and solid-state reaction methods to control the Te doping contents in the Cu2Se1−xTex (x\\xa0=\\xa00.1, 0.2, 0.25, and 0.3) at a sintering temperature of 873\\xa0K, we observed a structural phase transition and a change in the grain morphology at the Te content of 0.25.', 'The molar ratio of Cu/Se based on this structure is ∼1.97, suggesting the deficiency of Cu in Cu2Se.', 'However, when Cu2Se is stacked on SnSe2 either on SLG or Mo, the size of the crystallites is very low.', 'Therefore, there are only a few reports about Cu2Se thin films prepared by magnetron sputtering or the evaporation method.', 'The Bi0.01Cu2Se sample obtained the lowest thermal conductivity of 0.58\\xa0Wm−1\\xa0K−1, which is approximately a 33.3% reduction than that of pure Cu2Se at 873\\xa0K. Figure\\xa07b shows the temperature-dependent lattice thermal conductivity (κl) for BixCu2Se bulk samples.']\n"
     ]
    },
    {
     "name": "stderr",
     "output_type": "stream",
     "text": [
      "100%|██████████| 100/100 [00:08<00:00, 11.73it/s]\n",
      " 12%|█▏        | 2/17 [00:00<00:01, 12.66it/s]"
     ]
    },
    {
     "name": "stdout",
     "output_type": "stream",
     "text": [
      "17 ['The polycrystalline In0.25Co4Sb12 n-type skutterudite was ball-milled to reduce its grain size and lattice thermal conductivity by enhanced phonon scattering at grain boundaries. ', 'This leads to several highly dense In0.25Co4Sb12 compacts (> 97%) with average grain sizes ( D) ranging from 400 nm to the very small value of 150 nm. ', 'ZT is nonetheless improved from ZT = 1.1 in pristine In0.25Co4Sb12 to ZT = 1.4 at 750 K in In0.25Co4Sb12 with D similar to 400 nm because in this sample, the lattice thermal conductivity is still efficiently reduced while the electron mobility remains unaffected.', 'A ZT larger than 1 was first reported in the indium partially filled skutterudite In0.25Co4Sb12 by He et\\xa0al.', 'As will be further discussed, the lattice thermal conductivity is strongly affected by the grain size reduction below 400\\xa0nm in In0.25Co4Sb12, leading to a large maximum ZT.']\n"
     ]
    },
    {
     "name": "stderr",
     "output_type": "stream",
     "text": [
      "100%|██████████| 17/17 [00:01<00:00, 10.26it/s]\n",
      " 14%|█▍        | 2/14 [00:00<00:00, 12.27it/s]"
     ]
    },
    {
     "name": "stdout",
     "output_type": "stream",
     "text": [
      "14 ['Low temperature transport and thermal properties of half-Heusler alloy Zr0.25Hf0.25Ti0.5NiSn', 'The half-Heusler alloy Zr0.25Hf0.25Ti0.5NiSn was studied by electrical resistivity, Seebeck coefficient, Hall effect, thermal conductivity, and specific heat measurements, performed in the temperature range 2-300 K. ', 'In this paper, the alloy Zr0.25Hf0.25Ti0.5NiSn was chosen as a target material because it has a good thermoelectric performance above the room temperature , and its component is gotten by the half of the alloys Zr0.5Hf0.5NiSn and TiNiSn, respectively, which is important to study the different physical properties in the stoichiometric and ioselectronic alloys.', 'The ingot of the alloy Zr0.25Hf0.25Ti0.5NiSn was prepared by arc melting the 99.9% (at.%) pure Zr, Hf, Ti, Ni and Sn elements at four times under a pure argon atmosphere to ensure homogeneity.', 'We have failed to observe the large Seebeck coefficient for the alloy Zr0.25Hf0.25Ti0.5NiSn.']\n"
     ]
    },
    {
     "name": "stderr",
     "output_type": "stream",
     "text": [
      "100%|██████████| 14/14 [00:01<00:00, 10.23it/s]\n",
      "  2%|▏         | 2/100 [00:00<00:07, 12.66it/s]"
     ]
    },
    {
     "name": "stdout",
     "output_type": "stream",
     "text": [
      "100 ['Conventionally, clathrates with Ba and Sr guest atoms, such as Ba8Ga16Ge30 and Sr8Ga16Ge30, have been mainly studied.', 'For comparison, polycrystals of Ba8Ga16Ge30 were prepared by melting the as-synthesized single crystals, and its TE properties were also investigated.', 'The carrier thermal conductivity (κ C) of the p-type Ba8Ga16Ge30 was calculated from the Wiedemann-Franz law κ C\\xa0=\\xa0LσT where L is the Lorentz constant, σ the electrical conductivity and T the temperature.', 'The polycrystalline Ba8Ga16Ge30 compounds were prepared by melting the mixture of Ge (purity 99.9999%), Ga (purity 99.9999%) and Ba (purity 99.9%) by using a carbon crucible.', '223) space group and the Ba8Ga16Ge30 structure possesses two dodecahedral and six tetrakaidecahedral cages.']\n"
     ]
    },
    {
     "name": "stderr",
     "output_type": "stream",
     "text": [
      "100%|██████████| 100/100 [00:10<00:00,  9.90it/s]\n",
      "  2%|▏         | 2/100 [00:00<00:06, 14.49it/s]"
     ]
    },
    {
     "name": "stdout",
     "output_type": "stream",
     "text": [
      "100 ['In particular, it is apparent that the partial substitution of Cu for Co in NaCo2O4 leads to a decrease in the porosity and to a significant increase in the grain size.', 'The X value for NaCo2O4 and BiOBr is 5.89 and 6.45, respectively [].', '4 shows the XRD pattern for NaCo2O4 pellets sintered at 950\\u202f°C and 1000\\u202f°C.', 'The partial substitution of Cu for Co in NaCo2O4 gave rise to a decrease in the porosity and to a significant increase in the grain size.', 'NaCo2O4 was synthesized by ball-milling mixtures of Co3O4 and Na2CO3 (at a molar ratio of 2:3) for 2 h, followed by heating in an air atmosphere at 800 °C for 10 h. The obtained particles were characterized on a Bruker D8 Advance powder X-ray diffractometer (XRD) with monochromatized Cu Kα radiation (λ = 0.154056 nm).']\n"
     ]
    },
    {
     "name": "stderr",
     "output_type": "stream",
     "text": [
      "100%|██████████| 100/100 [00:07<00:00, 12.65it/s]\n",
      "  0%|          | 0/6 [00:00<?, ?it/s]"
     ]
    },
    {
     "name": "stdout",
     "output_type": "stream",
     "text": [
      "6 ['Thallium (Tl)-doped lead telluride (Tl0.02Pb0.98Te) thermoelectric materials fabricated by ball milling and hot pressing have decent thermoelectric properties but weak mechanical strength. ', 'Fortunately, doping of sodium (Na) into the Si added Tl0.02Pb0.98Te brings back the high electrical conductivity and yields higher figure-of-merit ZT values of similar to 1.7 at 770 K. ', 'The ZT improvement by Si addition and Na doping in Tl0.02Pb0.98Te sample is the direct result of concurrent electron and phonon engineering by improving the power factor and lowering the thermal conductivity, respectively.', 'We nanostructured Tl0.02Pb0.98Te by (i) embedding InSb nanodots in it, creating a nanodot nanocomposite, and (ii) polycrystallizing it, creating a nanograined nanocomposite.', 'A series of s ingle-phase polycrystalline (TlSbTe2)(x)(Tl0.02Pb0.98Te)(1-x) (x=0, 0.05, 0.1) compounds were made to reduce thermal conductivity while maintaining the enhanced Seebeck coefficients found in PbTe doped with Tl. ']\n"
     ]
    },
    {
     "name": "stderr",
     "output_type": "stream",
     "text": [
      "100%|██████████| 6/6 [00:00<00:00,  8.57it/s]\n",
      "  5%|▌         | 1/20 [00:00<00:02,  9.01it/s]"
     ]
    },
    {
     "name": "stdout",
     "output_type": "stream",
     "text": [
      "20 ['Here, we extend this approach to an optimized single-filled skutterudite In0.2Co4Sb12 (ZT value of 1.05 at 700 K [34]) and investigate the influence on the transport properties of the presence of PbTe and ZnO nanoparticles.', 'The results obtained for CoSb3 and In0.2Co4Sb12 are listed in Table 1.', 'Several interesting results emerge from these calculations compiled in Fig. 1 for CoSb3 and In0.2Co4Sb12 containing either ZnO or PbTe nanoparticles.', 'Finally, we adjusted the parameters of the model (experimental volume fraction and grain size of the starting nanoparticles i.e. 100 and 6 nm for ZnO and PbTe, respectively) to those of our PbTe/ZnO In0.2Co4Sb12 samples to try to predict their thermal behavior.', 'For the PbTe–In0.2Co4Sb12 series, the relative densities remain higher than 95%, except for the highest PbTe content (12%, see Table 2 ) for which it decreases to 90%.']\n"
     ]
    },
    {
     "name": "stderr",
     "output_type": "stream",
     "text": [
      "100%|██████████| 20/20 [00:01<00:00, 11.34it/s]\n",
      "  6%|▋         | 1/16 [00:00<00:01,  9.43it/s]"
     ]
    },
    {
     "name": "stdout",
     "output_type": "stream",
     "text": [
      "16 ['Commercial elemental Te (99.999%), Pb (99.99%) and Na (99%) were weighted according to stoichiometric proportions of Na0.02Pb0.98Te and sealed in a quartz tube at 10−3 Pa.', 'The semisolid temperature range of the Na0.02Pb0.98Te ball milled powders (896−920 °C) was determined using a differential scanning calorimeter (DSC, Netzsch STA 449 F3).', 'Fig. 1(a) shows the XRD spectra of the ball milled Na0.02Pb0.98Te powders and the SPP samples.', 'Fig. 2(a) and (b) shows SEM images of the SPP Na0.02Pb0.98Te samples.', 'The TEM images of the SPP Na0.02Pb0.98Te samples are shown in Fig. 2(c) and (d).']\n"
     ]
    },
    {
     "name": "stderr",
     "output_type": "stream",
     "text": [
      "100%|██████████| 16/16 [00:01<00:00, 11.75it/s]\n",
      "  1%|          | 1/100 [00:00<00:14,  6.76it/s]"
     ]
    },
    {
     "name": "stdout",
     "output_type": "stream",
     "text": [
      "100 ['The S1 sample obtains the highest electrical conductivity 7.5 × 104 S m−1 at room temperature, which is comparable to the values of Bi-doped poly-crystalline [20] and Sn-doping single crystalline β-Zn4Sb3 [16] due to the partial substitution of Bi 4+ or Sn 4+ replaces Zn 2+, results in the increase of carrier concentration.', 'Similarly, Pb atoms can also hamper the migration of Zn in local disordered structure of Zn4Sb3 .', 'This large lattice thermal conductivity observed for (Zn0.99Ag0.01)4Sb3 can be attributed to the contribution of impurity phase ZnSb (Fig. 1), for ZnSb phase has a much higher lattice thermal conductivity (2.26 W m−1 K−1) than that of Zn4Sb3.', '(ii) The alloys have two active components such as SnSb , InSb and Zn4Sb3 etc.', 'Single phase Zn4Sb3 exhibited the highest power factor due to the high electrical conductivity and moderate Seebeck coefficient .']\n"
     ]
    },
    {
     "name": "stderr",
     "output_type": "stream",
     "text": [
      "100%|██████████| 100/100 [00:08<00:00, 11.14it/s]\n",
      " 14%|█▍        | 1/7 [00:00<00:00,  9.62it/s]"
     ]
    },
    {
     "name": "stdout",
     "output_type": "stream",
     "text": [
      "7 ['The Ag-Tl-Te system attracts considerable attention because ternary silver-thallium tellurides Ag9TlTe5, Ag8Tl2Te5, AgTlTe, and AgTl3Te2 formed in this system are promising thermoelectric materials with extremely low thermal conductivity [30–35].', 'Ternary compounds AgTlTe and Ag9TlTe5 were found in this system [37].', 'The T-x-y phase diagram of the Ag-Tl-Te system constructed in [39] reflects the AgTlTe2, AgTlTe, AgTl3Te2, Ag8Tl2Te5, and Ag9TlTe5 compounds.', 'A 1-mm thick silver-foil is 99.999% pure Ag, was used as a left (negative) electrode, while equilibrium alloys from the phase areas AgTlTe2-Tl2Te3-Te, AgTlTe2-AgTlTe-TlTe, AgTl3Te2-AgTlTe-Tl5Te3, AgTlTe2-Ag8Tl2Te5-Te, Ag8Tl2Te5-Ag5TlTe3-Te, Ag5TlTe3-Ag9TlTe5-Te, and Ag2Te-Ag5Te3-Ag9TlTe5 of the Ag2Te-Tl2Te-Te subsystem were served as right (positive) electrodes.', 'It should be noted that the EMF values in the Ag2Te-Ag5Te3-Ag9TlTe5 three-phase region are in good agreement with the results obtained in [17].']\n"
     ]
    },
    {
     "name": "stderr",
     "output_type": "stream",
     "text": [
      "100%|██████████| 7/7 [00:00<00:00,  8.66it/s]\n",
      "100%|██████████| 2/2 [00:00<00:00, 11.56it/s]"
     ]
    },
    {
     "name": "stdout",
     "output_type": "stream",
     "text": [
      "2 ['Herein we report a significantly reduced lattice thermal conductivity of Sb-doped Zr0.35Hf0.35Ti0.3NiSn half-Heusler alloys with sub-micron grains', 'Figure 13 shows the calculated conductivity of p-type and n-type substituted xTx Zr0.35Hf0.35Ti0.3NiSn, where T = Sc or Nb, respectively.']\n"
     ]
    },
    {
     "name": "stderr",
     "output_type": "stream",
     "text": [
      "100%|██████████| 2/2 [00:00<00:00, 11.49it/s]\n",
      "  3%|▎         | 2/73 [00:00<00:05, 12.27it/s]"
     ]
    },
    {
     "name": "stdout",
     "output_type": "stream",
     "text": [
      "73 ['Here, Pb2+ ion was introduced into the Cu1.98Se lattice to improve the thermoelectric properties and the stability.', 'The obtained results reveal that the power factor of the doped samples greatly improved up to 1454\\xa0μW\\xa0m−1\\xa0K−2 at 800\\xa0K, which was about 22.5% higher than that of undoped Cu1.98Se.', 'In addition, after 3 cycles of testing, the power factor of Cu1.98Se decreased by 57% at 800\\xa0K, and that of Cu1.965Pb0.015Se decreased by less than 30%.', 'Compared with Cu2Se, the copper deficiency resulted in cell volume shrinkage for the prepared Cu1.98Se.', '2) of Pb-doped samples increases with the increase in x, which is consistent with the XRD results and indicates that Pb is successfully doped into Cu1.98Se, the substitution of larger ionic radius Pb2+ (1.12\\xa0Å) for Cu+ (0.74\\xa0Å) resulted in the lattice expansion.']\n"
     ]
    },
    {
     "name": "stderr",
     "output_type": "stream",
     "text": [
      "100%|██████████| 73/73 [00:06<00:00, 10.82it/s]\n",
      "  7%|▋         | 1/15 [00:00<00:01,  9.01it/s]"
     ]
    },
    {
     "name": "stdout",
     "output_type": "stream",
     "text": [
      "15 ['In this work, the effect of the substitution of Sr2+ by a larger Rb+ alkaline cation, on the structural, microstructural, and thermoelectric properties of laser textured Bi2Sr2Co2O8+δ, will be studied.', 'In this plot, it is easily deduced that all major peaks (labelled by their diffraction planes) can be related to the Bi2Sr2Co2O8+δ phase, in agreement with previously reported results [].', 'Consequently, from these data it can be easily deduced that all samples seem to be formed by single Bi2Sr2Co2O8+δ phase.', 'On the other hand, when comparing the patterns obtained for undoped and doped samples, it can be easily seen that there is a clear shift when Rb is added, as observed in the insert of Fig. 1, being constant for all Rb-doped samples, which indicates a maximum Rb incorporation into the Bi2Sr2Co2O8+δ unit cell.', 'They are, Bi2Sr2Co2O8+δ (#1, grey contrast) as the major phase, and Bi2Sr2CoO6+δ and CoO (#2, light grey, and #3, dark grey, respectively) secondary ones.']\n"
     ]
    },
    {
     "name": "stderr",
     "output_type": "stream",
     "text": [
      "100%|██████████| 15/15 [00:01<00:00,  9.32it/s]\n",
      "  2%|▏         | 2/100 [00:00<00:05, 16.94it/s]"
     ]
    },
    {
     "name": "stdout",
     "output_type": "stream",
     "text": [
      "100 ['The thermopower of the Ca2Co2O5, TiO2-x, Pt/chromel reference and the p-n couple is represented in Fig.', 'In view of its performance, Ca2Co2O5 can be a viable anode material for LIB.', 'The Ag-doped Ca2Co2O5 bulk samples were successfully prepared by the polymerized complex following hot press sintering.', 'In this work, Ca2Co2O5 precursor has been synthesized using sodium hydroxide as precipitant and calcium and cobalt nitrates as starting materials, and the Ca2Co2O5 textured ceramics has been prepared by the precursor powders calcined at 700–850 °C for 2 h and then spark plasma sintered at 800 °C for 5 min.', '3D-Ca2Co2O5.']\n"
     ]
    },
    {
     "name": "stderr",
     "output_type": "stream",
     "text": [
      "100%|██████████| 100/100 [00:07<00:00, 12.67it/s]\n",
      "  2%|▏         | 2/86 [00:00<00:06, 13.42it/s]"
     ]
    },
    {
     "name": "stdout",
     "output_type": "stream",
     "text": [
      "86 ['Phase equilibria in the quaternary system Tl–Bi–Er–Te in the composition region Tl2Te–Tl9BiTe6–Tl9ErTe6 were studied by physicochemical analysis methods.', 'The phase diagram of the boundary system Tl2Te–Tl9BiTe6 was refined.', 'A number of diagrams were constructed for the first time, namely, some polythermal sections; the isothermal sections of the phase diagram at 300, 760, and 780 K; and the projections of the liquidus and solidus surfaces of the system Tl2Te–Tl9BiTe6–Tl9ErTe6.', 'The compounds Tl2Te and Tl9BiTe6 melt congruently at 695 K  and 830 K , respectively, and Tl9ErTe6 melts incongruently with the decomposition by the peritectic reaction Tl9ErTe6 → L + TlErTe2 at 705 K .', 'The compound Tl2Te crystallizes in the monoclinic system (space group C2/C, a = 1.5662 nm, b = 0.8987 nm, c = 3.1196 nm, β = 100.76°, and z = 44) , and the unit cell parameters of Tl9BiTe6 and Tl9ErTe6 are a = 0.88551 nm, c = 1.3048 nm, z = 2  and a = 0.88501 nm, c = 1.29524 nm, z = 2 , respectively.']\n"
     ]
    },
    {
     "name": "stderr",
     "output_type": "stream",
     "text": [
      "100%|██████████| 86/86 [00:08<00:00, 10.14it/s]\n",
      "  2%|▏         | 2/100 [00:00<00:07, 12.82it/s]"
     ]
    },
    {
     "name": "stdout",
     "output_type": "stream",
     "text": [
      "100 ['As confirmed by EDX, in the RGB map green regions turned out to be Bi-rich grain boundary phases whereas the Bi2Te3 matrix of the film is in purple (Fig. 9(b)).', 'The effect of Bi2Te3 on the morphology and N2 photofixation ability of BiOCl was investigated.', 'By slight adjustment of these key factors, Te/Bi2Te3 nanostrings can be successfully prepared.', 'The Bi and Te EDS elemental mapping for the Bi-rich Bi2Te3 thin films are shown in Fig. 4 along with the topographic regions from where the mappings were recorded.', 'Comparing with Bi2Te3 the phase transition takes place at higher pressures.']\n"
     ]
    },
    {
     "name": "stderr",
     "output_type": "stream",
     "text": [
      "100%|██████████| 100/100 [00:08<00:00, 11.95it/s]\n",
      "  0%|          | 0/68 [00:00<?, ?it/s]"
     ]
    },
    {
     "name": "stdout",
     "output_type": "stream",
     "text": [
      "68 ['Among them, p-type AgCrSe2 has attracted much attention for its potential to possess a high ZT at 773\\xa0K by virtues of a very low κ latt.', 'AgCrSe2 crystalizes in a hexagonal structure (a ∼0.37\\xa0nm, c = 2.12\\xa0nm; space group R3m; Z\\xa0=\\xa03;) which is built up by alternatively stacking sandwiches of CdI2-type CrSe2 - octahedra and layers of Ag+ cations.', '(0.2 ∼ 0.4 Wm−1K−1) in a wide temperature range of 300 ∼ 723\\u2009K , making AgCrSe2 as an attrative candidate of mid-temperature TE materials .', 'Nevertherless, the electrical transport properties of AgCrSe2 is rather poor as compared with that of the state-of-the-art TE competitors, due to the low σ and PF.', 'On the other hand, AgCrSe2 shows a certain degree of anisotropy for electrical and thermal conduction between in the a-b plane and along the c direction (unfortunately no data available for single crystals), as the CrSe2 layers conduct holes much effectively than the Ag layers .']\n"
     ]
    },
    {
     "name": "stderr",
     "output_type": "stream",
     "text": [
      "100%|██████████| 68/68 [00:07<00:00,  8.69it/s]\n",
      "  0%|          | 0/100 [00:00<?, ?it/s]"
     ]
    },
    {
     "name": "stdout",
     "output_type": "stream",
     "text": [
      "100 ['The calculated Ca3Co4O9 c-axis lattice parameter is 1.0809±0.004 nm, which confirms the value extracted from the HRTEM images and published values .', 'The κtotal of Ca2.7Bi0.3Co4O9+δ is about 0.39\\xa0W/m/K at 300\\xa0K. It should be emphasized that in contrast to the Ca3Co4O9+δ, the Ca2.7Bi0.3Co4O9+δ samples show much lower κtotal.', 'Hydrothermal method-prepared Iron-doped Ca3Co4O9± δ\\xa0ceramic shows the Nanorods’ morphology.', 'We confirm that the preservation of the unique layered structure of pure Ca3Co4O9 is essential for the improvement of thermoelectric properties and with suitable doping one can apply enough chemical pressure that would keep the crystal structure stable but still enhance the thermoelectric properties.', 'However, cobalt oxide (Co3O4) was detected by its dominant peak at about 36.9° and EDS mapping (not shown) indicates this to be some of the small particles that make up the islands within the CaCrO4 phase as well in the Ca3Co4O9 bulk near the interface.']\n"
     ]
    },
    {
     "name": "stderr",
     "output_type": "stream",
     "text": [
      "100%|██████████| 100/100 [00:09<00:00, 10.25it/s]\n",
      "  3%|▎         | 1/36 [00:00<00:03,  9.43it/s]"
     ]
    },
    {
     "name": "stdout",
     "output_type": "stream",
     "text": [
      "36 ['In the present investigation, we are reporting the growth of SBN single crystal from congruent composition i.e. Sr0.61Ba0.39Nb2O6-δ (SBN61) using OFZ technique and the effect of reduction on the optical and electrical properties of SBN crystals.', 'Single crystals of this composition i.e., Sr0.61Ba0.39Nb2O6 were grown by optical floating zone technique.', 'Single crystals of strontium barium niobate (Sr0.61Ba0.39Nb2O6) were grown by Optical Floating Zone technique and investigated for the effect of thermal reduction on the optical and electrical properties.', 'The main focus of this study was to investigate the in situ synthesis of Sr0.61Ba0.39Nb2O6/NiFe2O4magnetoelectric composite powders using a modified Pechini method and to propose a model to understand the simultaneous formation of two crystalline phases.', 'These phases may form a solid substitutional solution in which the Srcationscan replace the Ba cations, or vice versa, forming the Sr0.61Ba0.39Nb2O6 phase.']\n"
     ]
    },
    {
     "name": "stderr",
     "output_type": "stream",
     "text": [
      "100%|██████████| 36/36 [00:04<00:00,  7.67it/s]\n",
      "  3%|▎         | 2/59 [00:00<00:03, 15.04it/s]"
     ]
    },
    {
     "name": "stdout",
     "output_type": "stream",
     "text": [
      "59 ['Co4Sb12 and indium-filled In0.1Co4Sb12 compositions were chosen for this study.', 'Focusing on In0.1Co4Sb12 was intended to ensure that only the effects of the void-site filler were examined.', 'The Co4Sb12 and indium-filled In0.1Co4Sb12 compositions were synthesized according to a procedure developed by He et al. [12].', 'The resulting 12 mm and 40 mm Co4Sb12 and In0.1Co4Sb12 pellets were nearly 100% dense as determined by the Archimedes method.', 'Indent forces were varied from a range of 4.9–9.8 N for Co4Sb12 down to a range of 0.25–0.98 N for In0.1Co4Sb12 to avoid lateral crack induced spalling.']\n"
     ]
    },
    {
     "name": "stderr",
     "output_type": "stream",
     "text": [
      "100%|██████████| 59/59 [00:06<00:00,  9.30it/s]\n",
      " 25%|██▌       | 1/4 [00:00<00:00, 10.00it/s]"
     ]
    },
    {
     "name": "stdout",
     "output_type": "stream",
     "text": [
      "4 ['p- and n-type TE materials, Mg2Si0.98Bi0.02 and MnSi1.75Ge0.02, respectively, were metallized with nickel foils and used as test materials for contact resistance characterization.', 'Contact resistance values of 0.5\\xa0mΩ\\xa0mm2 for Ni/Mg2Si0.98Bi0.02 junctions and 4\\xa0mΩ\\xa0mm2 for Ni/MnSi1.75Ge0.02 junctions have been measured.', 'In addition to the above, experiments were carried out to understand the long term effect of temperature on nanostructured Mg2Si0.98Bi0.02 bulk samples subjected to ageing by keeping its edges at elevated temperature (600K) for a prolonged time while the middle was kept at moderate temperature (310K). ', 'Especially the last one has gained a lot of attention since its first investigation in 2005 by Tani and Kido [14], who fabricated Mg2Si0.98Bi0.02 exhibiting ZT = 0.86 at 862 K.']\n"
     ]
    },
    {
     "name": "stderr",
     "output_type": "stream",
     "text": [
      "100%|██████████| 4/4 [00:00<00:00,  9.09it/s]\n",
      " 33%|███▎      | 1/3 [00:00<00:00,  8.70it/s]"
     ]
    },
    {
     "name": "stdout",
     "output_type": "stream",
     "text": [
      "3 ['Moreover, such disks were also observed in Pb-rich Pb1.3Te, Pb-deficient PbTe1.3, and thallium (Tl)-doped Tl0.01Pb0.99Te and Tl0.02Pb0.98Te crystals. ', 'Several disk-shaped samples of Tl0.01Pb0.99Te and Tl0.02Pb0.98Te were prepared and mounted for high-temperature measurements (300 to 773 K) of their conductivity (σ and κ), as well as Hall (RH) and Seebeck (S) coefficients', 'The zT values for Tl0.02Pb0.98Te (black circles) and Tl0.01Pb0.99Te (blue circles) compared to that of a reference sample of Na-PbTe (purple diamonds).Click to enlarge. Source: Heremans 2008.']\n"
     ]
    },
    {
     "name": "stderr",
     "output_type": "stream",
     "text": [
      "100%|██████████| 3/3 [00:00<00:00,  8.96it/s]\n",
      "  6%|▌         | 2/35 [00:00<00:02, 11.36it/s]"
     ]
    },
    {
     "name": "stdout",
     "output_type": "stream",
     "text": [
      "35 ['We fabricated the CoSb3 and the rare earths filled LaFe3CoSb12, CeFe3CoSb12, La0.5Ce0.5Fe3CoSb12 nano-powders by hydro/solvo thermal route and then used such nano-powders to make bulk samples by hot-press.', 'The properties of CoSb3 and the rare earths filled LaFe3CoSb12, CeFe3CoSb12, La0.5Ce0.5Fe3CoSb12 nano-powders have been discussed in detail elsewhere .', 'From Fig. 1 it can be seen that the average grain size of CoSb3, LaFe3CoSb12, and CeFe3CoSb12 is about 100 nm.', 'Dissimilarly, the glassy phase in LaFe3CoSb12 and La0.5Ce0.5Fe3CoSb12 bulks is absolutely dominant and no obvious skutterudite crystal phase can be observed.', 'In comparison with the unfilled CoSb3, the thermal conductivities of the rare earths filled skutterudites show a significant reduction from 1.64 W m−1 K−1 to 0.89 W m−1 K−1 and 0.64 W m−1 K−1 for LaFe3CoSb12, CeFe3CoSb12 and La0.5Ce0.5Fe3CoSb12, respectively.']\n"
     ]
    },
    {
     "name": "stderr",
     "output_type": "stream",
     "text": [
      "100%|██████████| 35/35 [00:03<00:00, 11.47it/s]\n",
      "  1%|          | 1/100 [00:00<00:14,  6.62it/s]"
     ]
    },
    {
     "name": "stdout",
     "output_type": "stream",
     "text": [
      "100 ['In this work, we report, for the first time, the results of internal photoemission (IPE) study on charge trapping in rapid thermal oxides (5–7 nm) grown at several oxidation temperatures between 650 and 950 °C for 90 s on strained-Si/Si0.8Ge0.2 heterolayers and compare the properties with co-processed RTO oxides on bulk-Si.', 'It was then straightforward to unequivocally determine from Fig. 2 profile the individual thickness of the Si0.8Ge0.2 and Si layers in the 19 periods SL on bulk Si(0 0 1): 18.9 and 31.8 nm, respectively.', 'In the present study, the thermal stability of Ni(Si1−xGex) up to 900 °C can be attributed to the presence of Ge atoms in Ni/BF2+-preamorphized Si0.8Ge0.2.', 'The metastable Si0.8Ge0.2 films were grown by UHVCVD and treated by different annealed treatment.', 'EDS analysis showed that the compositions at the center and ridge of the ring structure, marked “a” and “b”, and SiGe substrate, marked “c” in Fig. 4(b) are the same, i.e. Si0.8Ge0.2.']\n"
     ]
    },
    {
     "name": "stderr",
     "output_type": "stream",
     "text": [
      "100%|██████████| 100/100 [00:09<00:00, 10.14it/s]\n",
      "  2%|▏         | 2/100 [00:00<00:08, 12.19it/s]"
     ]
    },
    {
     "name": "stdout",
     "output_type": "stream",
     "text": [
      "100 ['And Yb14MnSb11 and CaxYb1 − xZn2Sb2 compounds show good thermoelectric properties .', 'First, the optimization of the electronic and ionic structures of Yb14MgSb11, Yb14MnSb11, Si, and CsPbBr3 were performed with periodic DFT in VASP [] with strict convergence criteria.', '[] reported a Seebeck coefficient of 180\\u202fmV\\u202fK−1 and electrical conductivity of 185\\u202fS\\u202fcm−1 for a hot–pressed Yb14MnSb11\\u202fat 1200\\u202fK. Moreover, authors obtained a power factor at about 6\\u202fmW\\u202fcm−1 K−2 and thermal conductivity ranging from 0.7 to 0.9 Wm–1 K−1 in temperatures amid range of 300–1275\\u202fK, which gives an increase to the trivial figure of merit (zT) of approximately 1.0\\u202fat 1200\\u202fK. The reduced thermal conductivity can be ascribed to the structural complexity and bulky lattice constant along the ionic bonding in the framework.', 'X-ray magnetic circular dichroism (XMCD) shows that the [MnSb4]9- tetrahedral cluster has an electronic state of d 5 +\\u2009h (hole) in Yb14MnSb11, consistent with the theoretical calculations on A14MnBi11 described above A hole on Sb, aligned with the d spins on Mn2+, polarizes a spin on the Sb in the [MnSb4]9- cluster which screens one d electron leading to the description of d 5 +\\u2009h. Therefore, Yb14MnSb11 has a saturation moment of 4 μB and an effective moment of 4.9 μB.', 'It is possible to grow single crystals Yb14MnSb11 via Sn flux with various rare earth substitutions, resulting in the compounds Yb14-x Ln xMnSb11 (Ln=La, Tm, Lu) .']\n"
     ]
    },
    {
     "name": "stderr",
     "output_type": "stream",
     "text": [
      "100%|██████████| 100/100 [00:09<00:00, 10.01it/s]\n",
      "  6%|▌         | 1/18 [00:00<00:01,  9.09it/s]"
     ]
    },
    {
     "name": "stdout",
     "output_type": "stream",
     "text": [
      "18 ['Thermoelectric generation modules consisting of pairs of p-type CeFe3CoSb12 and n-type Yb0.15Co4Sb12 have been fabricated using Ag sheets as electrodes and metal paste as bonding material.', 'A series of p-type xBaFe12O19/CeFe3CoSb12 (x\\xa0=\\xa00, 0.05%, 0.10%, 0.20%, 0.40%) magnetic nanocomposite thermoelectric (TE) materials have been prepared by the combination of ultrasonic dispersion and spark plasma sintering (SPS).', 'The highest ZT value reached 0.75 at 800\\xa0K for the sample with x\\xa0=\\xa00.05%, increased by 41.5% as compared with that of p-type CeFe3CoSb12 bulk material without BaFe12O19 magnetic nanoparticles.', 'This work confirms that doping a small amount of BaFe12O19 magnetic nanoparticles can significantly improve the ZT value of p-type xBaFe12O19/CeFe3CoSb12 magnetic nanocomposite TE materials.', 'Evaluations of ZT are successfully made for typical thermoelectric materials, (Bi,Sb)2Te3 and CeFe3CoSb12.']\n"
     ]
    },
    {
     "name": "stderr",
     "output_type": "stream",
     "text": [
      "100%|██████████| 18/18 [00:02<00:00,  8.53it/s]\n",
      "  1%|          | 1/100 [00:00<00:10,  9.52it/s]"
     ]
    },
    {
     "name": "stdout",
     "output_type": "stream",
     "text": [
      "100 ['The Ce fillers in CeFe4Sb12 provide a short path for rapid interdiffusion of oxygen, which leads to fast growth of the oxide layer, with thickness of about 200\\xa0μm at 900\\xa0K after only 1\\xa0h exposure in air.', 'To limit its exposure to the atmosphere, CeFe4Sb12 could be sealed in an inert environment, as has been done for other thermoelectric materials .', 'Interestingly, in CeFe4Sb12 the thermal conductivity is 10 times smaller than in CoSb3 .', 'Except that the energy gap was equal for example for the CeFe4Sb12 0.66 eV for FLAPW calculations and 0.2 eV for TBLMTO.', 'The spectrum from as-synthesized CeFe4Sb12 is comprised of 3 main excitations and corresponds to low-spin Fe2+, an electronic state that has been proven by previous studies .']\n"
     ]
    },
    {
     "name": "stderr",
     "output_type": "stream",
     "text": [
      "100%|██████████| 100/100 [00:09<00:00, 10.49it/s]\n",
      " 50%|█████     | 2/4 [00:00<00:00, 15.27it/s]"
     ]
    },
    {
     "name": "stdout",
     "output_type": "stream",
     "text": [
      "4 ['The maximum power factor was 4.4 x 10(-3) Wrn(-1)K(-2) for Zr0.98Nb0.02NiSn at 873 K. ', 'ZT=0.68 at 970 K was achieved for Zr0.98Nb0.02NiSn.', 'In fact, Hiroaki Muta et al. did Nb doping in ZrNiSn and TiNiSn before and the maximum ZT value of 0.6 was obtained for Zr0.98Nb0.02NiSn at 800 K [28].', 'The maximum ZT value of 0.6 at 800 K was obtained for Zr0.98Nb0.02NiSn.']\n"
     ]
    },
    {
     "name": "stderr",
     "output_type": "stream",
     "text": [
      "100%|██████████| 4/4 [00:00<00:00, 13.11it/s]\n",
      "  0%|          | 0/39 [00:00<?, ?it/s]"
     ]
    },
    {
     "name": "stdout",
     "output_type": "stream",
     "text": [
      "39 ['We randomly doped Ti, Hf, and Zr with an occupation probability of 50% to obtain Ti0.5Zr0.5NiSn, Ti0.5Hf0.5NiSn, and Zr0.5Hf0.5NiSn, respectively.', 'The maximum thermoelectric figures of merit for Ti0.5Zr0.5NiSn (0.57), Ti0.5Hf0.5NiSn (0.55), and Zr0.5Hf0.5NiSn (0.58) are higher than those of their parent compounds TiNiSn (0.35), ZrNiSn (0.496), and HfNiSn (0.473).', 'We discuss the TE transport properties of Ti0.5Zr0.5NiSn, Ti0.5Hf0.5NiSn, and Zr0.5Hf0.5NiSn and determine the effects of doping types on PF at different temperatures.', 'These results indicate that Ti0.5Zr0.5NiSn, Ti0.5Hf0.5NiSn, and Zr0.5Hf0.5NiSn have potential TE applying values within the temperature range of 900–1200\\xa0K.  First-principles calculations are performed in reference to the density functional theory of generalized gradient approximation with Perdew–Burke–Ernzerhof exchange-correlation functional by using the Vienna ab initio simulation package (VASP) .', 'The calculated projected bands of Ti0.5Zr0.5NiSn, Ti0.5Hf0.5NiSn, and Zr0.5Hf0.5NiSn are shown in Fig.']\n"
     ]
    },
    {
     "name": "stderr",
     "output_type": "stream",
     "text": [
      "100%|██████████| 39/39 [00:04<00:00,  8.56it/s]\n",
      "  2%|▏         | 2/100 [00:00<00:10,  9.59it/s]"
     ]
    },
    {
     "name": "stdout",
     "output_type": "stream",
     "text": [
      "100 ['It is expected that the reinforcement aggregation was also severe in the zones of the SSSs after partial remelting and thixoforming; thus, the intergranular SSSs of the CNTs/Mg and Mg2Sip/Mg composites became weak points.', 'In the Al–8Mg–2Si and Al–8Mg–7Si alloys, the eutectic Mg2Si (Mg2SiE) presents flake-like shape (Fig. 2 (d) and (e)).', 'The nominal compositions were Bi-doped Mg2Si0.55-xSn0.4Ge0.05Bix with x values between 0.02 and 0.06, as shown in Table\\xa01 .', 'SEM images of Mg2Si films of varying thickness as deposited on silicon (100) substrate are shown in Fig. 4.', 'Then, α–Al and secondary Mg2Si co-solidify from the molten composite in the narrow ternary phase area.']\n"
     ]
    },
    {
     "name": "stderr",
     "output_type": "stream",
     "text": [
      "100%|██████████| 100/100 [00:08<00:00, 11.28it/s]\n",
      "  0%|          | 0/100 [00:00<?, ?it/s]"
     ]
    },
    {
     "name": "stdout",
     "output_type": "stream",
     "text": [
      "100 ['The mechanism of doping ZrNiSn with Ni atoms was determined – increasing of Ni concentration in 4d position decrease number of Ni atoms in statistical mixture (4a site).', 'We have observed the lowest κ\\xa0∼\\xa03.9 Wm−1K−1\\xa0at ∼624\\xa0K and κ\\xa0∼\\xa04.0 Wm−1K−1\\xa0at ∼873\\xa0K for the composition ZrNi1.04Sn0.99Sb0.01 HH alloy which is lower than that of the earlier reported in Hf-free Sb-doped ZrNiSn-based HH alloys [,].', 'Fig. 1 (a) shows the XRD patterns of the synthesised pristine ZrNiSn and (ZrNiSn)1 − x(ZnO)x (x\\u202f=\\u202f0.025–0.15) HH nanocomposites samples with varying concentration of ZnO nanoparticles.', 'This may be ascribed to the fact that Cu is an electron donor to ZrNiSn and the mobility of electron in ZrNiSn is larger than that of hole, as pointed out by Mastronardi et al. .', 'It was found that Zr/Sn antisite defects are not likely to be presented in the crystal structure; instead, some interstitial Ni atoms are present in the lattice and partly occupy the 4d (3/4, 3/4, 3/4) position which is empty in ordered ZrNiSn (crystal structures shown in Fig. 1 ).']\n"
     ]
    },
    {
     "name": "stderr",
     "output_type": "stream",
     "text": [
      "100%|██████████| 100/100 [00:09<00:00, 10.46it/s]\n",
      "100%|██████████| 1/1 [00:00<00:00, 14.92it/s]\n",
      "  0%|          | 0/100 [00:00<?, ?it/s]"
     ]
    },
    {
     "name": "stdout",
     "output_type": "stream",
     "text": [
      "1 ['The highest dimensionless thermoelectric figure of merit ZT (0.4) was observed in Cu4.0Mo6S8 at 950 K.']\n",
      "100 ['Such a low carrier concentration requires minimal electrons compensation, for example by Sc or Fe acceptor doping, while generating p-type TiNiSn with a matched CTE to the n-type poly-crystalline TE leg of a TE generator.', 'As shown in Fig. 4(c), the thermal conductivity (κt) of all TiNiSbxSn1-x samples is lower than 6.5\\xa0W\\xa0m−1K−1 within room temperature to 873\\xa0K. The κt of TiNiSn0.965Sb0.035 and TiNiSn0.955Sb0.045 samples are between 4.2 and 4.7\\xa0W\\xa0m−1K−1, which was only slightly higher than the sample without annealing (3.8–4.0\\xa0W\\xa0m−1K−1) [], but about 50% higher than the undoped sample in the literature [,].', 'In comparison to Aliev et al. 1990 experimental values [95], the computed electronic band-gaps of TiNiSn, ZrNiSn, and HfNiSn at the GGA level were overestimated.', 'The maximum values of ZT obtained for the AM-AN sample is in agreement with typical values reported in literature (about 0.30–0.35) for nearly single TiNiSn phase [].', 'The TiNiSn was present as major composition with ∼98% single phase purity when the irradiation time increased to 4\\xa0min 20\\xa0s. Full-heusler phase of TiNi2Sn present when the irradiation time was increased to 4\\xa0min 40\\xa0s and 5\\xa0min attributing to the decomposition of TiNiSn at temperature higher than 1160\\xa0°C .']\n"
     ]
    },
    {
     "name": "stderr",
     "output_type": "stream",
     "text": [
      "100%|██████████| 100/100 [00:09<00:00, 10.65it/s]\n",
      "100%|██████████| 1/1 [00:00<00:00, 10.20it/s]\n",
      "  0%|          | 0/23 [00:00<?, ?it/s]"
     ]
    },
    {
     "name": "stdout",
     "output_type": "stream",
     "text": [
      "1 ['Muta et al. studied thermoelectric properties of doped BaTiO3-SrTiO3 solid solution andfound a maximum ZT of ~0.12 at 400 K in Ba0.3Sr0.6La0.1TiO3.']\n",
      "23 ['To investigate the role of mesoporous structure, the composition of Nb-doped SrTiO3 was fixed as SrTi0.8Nb0.2O3 (STNO) because this composition is widely used in thermoelectric materials .', 'In this work, we need to crystallize STNO (SrTi0.8Nb0.2O3) to obtain good, stable thermoelectric properties .', 'Bilayers consisting of SrTi0.8Nb0.2O3 on top of La0.7Sr0.3MnO3 were in situ grown by pulsed laser deposition on TiO2 single terminated, (100) oriented SrTiO3 substrates with 0.1° miscut.', 'In 2005, we clarified that the 20% (≈ 4 × 1021\\xa0cm− 3) Nb-doped SrTiO3 epitaxial film (SrTi0.8Nb0.2O3 hereafter) exhibits ZT ∼ 0.37 at 1000\\xa0K (Fig. 1, red curve), which is the largest value among n-type metal oxides ever reported.', 'In order to improve the thermoelectric performance of SrTi0.8Nb0.2O3, therefore, the S 2 σ value must be enhanced according to the commonly observed trade-off relationship between two material parameters in terms of carrier electron concentration (n e): σ increases almost linearly with increasing n e until ionized impurity scattering or electron–electron scattering becomes dominant, while |S| decreases with n e. Thus, further improvement of the ZT value of SrTi0.8Nb0.2O3 is almost impossible at conventional three dimensional (3D) bulk state.']\n"
     ]
    },
    {
     "name": "stderr",
     "output_type": "stream",
     "text": [
      "100%|██████████| 23/23 [00:02<00:00,  8.95it/s]\n",
      " 33%|███▎      | 2/6 [00:00<00:00, 14.01it/s]"
     ]
    },
    {
     "name": "stdout",
     "output_type": "stream",
     "text": [
      "6 ['All samples exhibit a metallic behavior with the electrical resistivity increasing with temperature except the composite In1.8Ge0.2O3.', 'At room temperature, the influence of the germanium additions is very important, with λ decreasing from about 10 W\\xa0m−1\\xa0K−1 in undoped In2O3 to 3.3 W\\xa0m−1\\xa0K−1 in the composite In1.8Ge0.2O3.', 'The lattice part of the thermal conductivity monotonically decreases from about 3 W\\xa0m−1\\xa0K−1 in undoped In2O3 to about 0.6 W\\xa0m−1\\xa0K−1 in the composite In1.8Ge0.2O3.', 'The figure of merit is strongly enhanced by Ge additions, with ZT\\xa0=\\xa00.46 at 1273 K in the composite In1.8Ge0.2O3.', 'Moreover, further Ge additions appear to be very effective for decreasing the lattice thermal conductivity, with λ being lower than 2 W\\xa0m−1\\xa0K−1 in the composite In1.8Ge0.2O3 at high temperature.']\n"
     ]
    },
    {
     "name": "stderr",
     "output_type": "stream",
     "text": [
      "100%|██████████| 6/6 [00:00<00:00, 12.25it/s]\n",
      "  4%|▍         | 1/23 [00:00<00:02,  9.26it/s]"
     ]
    },
    {
     "name": "stdout",
     "output_type": "stream",
     "text": [
      "23 ['Ca2.7Bi0.3Co4O9 and Ca0.9Bi0.1MnO3 materials were selected and prepared on the basis of the preliminary work, where comparable electrical performance in p- and n-type legs was achieved.', 'Further, the two products with nominal compositions of Ca0.9Bi0.1MnO3 (CBMO) and Ca2.7Bi0.3Co4O9 (CBCO) were milled in a mortar in alcohol media and dried separately.', 'The Bragg peaks on the diffraction pattern of Ca0.9Bi0.1MnO3 manganite (n-conductor) correspond to an orthorhombic cell with the Pnma space group, while those of Ca2.7Bi0.3Co4O9 cobaltite (p-conductor) belong to a phase identical to Ca3Co4O9, exhibiting monoclinic symmetry.', 'The phase based on calcium manganite proved to be more thermodynamically stable than Ca2.7Bi0.3Co4O9 under heat treatment.', 'Tensile strength and bending strength tests are carried out at room temperature for devices comprising one-piece oxide thermoelectric elements (p-type Ca2.7Bi0.3Co4O9 and n-type CaMn0.98Mo0.02O3), silver paste, and silver sheet between two sheets of alumina substrate.']\n"
     ]
    },
    {
     "name": "stderr",
     "output_type": "stream",
     "text": [
      "100%|██████████| 23/23 [00:02<00:00,  8.45it/s]\n",
      "100%|██████████| 1/1 [00:00<00:00,  9.80it/s]\n",
      "  0%|          | 0/67 [00:00<?, ?it/s]"
     ]
    },
    {
     "name": "stdout",
     "output_type": "stream",
     "text": [
      "1 ['On the other hand, the thermopower decreases with Ge addition, but the thermoelectric power factor remains higher than that of undoped In2O3 and is close to 1 mW m−1 K−2 at 1100 K in In1.985Ge0.015O3.']\n",
      "67 ['Aiming to achieve a synergistic effect on CMC/PVP that enabled optical, optoelectronic, and electrical applications, Zn0.95Al0.05O (ZAL) NPs were used as a filler of CMC/PVP.', 'The sol-gel method was employed to prepare Zn0.95Al0.05O nanoparticles as described elsewhere [].', 'Towards this goal, Zn0.95Al0.05O nanoparticles were filled into soft, sustainable (CMC/PVP) films, providing them with excellent optical and electrical properties.', 'This paper deals with the co-doping of Mn in Al-doped ZnO (Zn0.95Al0.05O) with different Mn percentage from 0 to 5% and are prepared by co-precipitation method.', 'The effect of Mn dopant content on structural, morphological, optical and dielectric properties of Zn0.95Al0.05O were investigated.']\n"
     ]
    },
    {
     "name": "stderr",
     "output_type": "stream",
     "text": [
      "100%|██████████| 67/67 [00:06<00:00, 10.46it/s]\n",
      "  1%|▏         | 1/67 [00:00<00:09,  7.25it/s]"
     ]
    },
    {
     "name": "stdout",
     "output_type": "stream",
     "text": [
      "67 ['ZnO (Sigma Aldrich, 99.99%) and Al(NO3)3·9H2O were used as precursors to prepare Zn0.98Al0.02O, while NiO (Sigma Aldrich, 99.97%) and LiNO3 (Merck, 99.9%) were starting materials for Ni0.98Li0.02O.', 'We investigated the use of LSC between oxide TE materials p-type Ni0.98Li0.02O (Li–NiO) and n-type Zn0.98Al0.02O (Al–ZnO) in a p-LSC-n junction, hereafter p-L-n, as well as interfacial reactions and stability of the individual interfaces.', 'In this work, we investigated the electrical properties, chemical, and thermal (thermodynamic) stabilities of interfaces established from Ni0.98Li0.02O–Zn0.98Al0.02O for use as contact materials for a device operating at elevated temperatures.', 'We fabricated Ni0.98Li0.02O–Zn0.98Al0.02O junction interface from the individual oxides, followed by measurements of electrical properties (through current-voltage and electrochemical impedance spectroscopy measurements), and studies of cation inter-diffusion mechanisms on interfaces annealed at high temperatures.', 'The Ni0.98Li0.02O was synthesized from Li2CO3 and NiO powder precursors, while Al2O3 and ZnO were used for the synthesis of Zn0.98Al0.02O.']\n"
     ]
    },
    {
     "name": "stderr",
     "output_type": "stream",
     "text": [
      "100%|██████████| 67/67 [00:06<00:00,  9.80it/s]\n",
      "  2%|▏         | 2/100 [00:00<00:06, 15.50it/s]"
     ]
    },
    {
     "name": "stdout",
     "output_type": "stream",
     "text": [
      "100 ['The Sr0.9La0.1TiO3 substrate was fabricated by an aqueous tape casting technique.', 'Therefore, it could be confirmed that the Moiré\\u2009fringes originated from the difference of lattice constant between the Bi precipitated phase and the Sr0.9La0.1TiO3 matrix.', '9 (a) shows the temperature dependence of electrical conductivity σ(T) for Sr0.9La0.1TiO3/xAg samples in the temperature range between 343\\u202fK and 1073\\u202fK. The electrical conductivity increases with increasing temperature when the temperature is below 500\\u202fK, then decreases with further increasing temperature for all of the samples.', 'The reaction of SrCO3, TiO2 and La2O3 generated Sr0.9La0.1TiO3, but Ti was oxidized to TiO2.', 'It can be seen that the XRD patterns of the ceramics with x = 0.01, 0.03, 0.05 are the same as that of Sr0.9La0.1TiO3 sample, indicative of tantalum element being doped into the lattice of Sr0.9La0.1TiO3 and formed a single phase compound.']\n"
     ]
    },
    {
     "name": "stderr",
     "output_type": "stream",
     "text": [
      "100%|██████████| 100/100 [00:11<00:00,  8.57it/s]\n",
      "100%|██████████| 2/2 [00:00<00:00, 12.27it/s]\n",
      "  0%|          | 0/100 [00:00<?, ?it/s]"
     ]
    },
    {
     "name": "stdout",
     "output_type": "stream",
     "text": [
      "2 ['While Cr1.3Mo6S8 crystallized in a triclinic structure, Mn1.3Mo6S8, Fe1.3Mo6S8, and Ni2.0Mo6S8 crystallized in a hexagonal structure.', 'The highest value of the thermoelectric figure of merit (0.17) was observed in Cr1.3Mo6S8 at 973 K.']\n",
      "100 ['The Raman spectra exhibit an additional peak at around 140\\xa0cm−1 which is not associated with vibrations in Sb2Te3.', 'The misfit along flat sections of the elongated {1 1 1}PbTe/(0 0 0 1)Sb2Te3 precipitate interface can be accommodated by arrays of 12〈110〉 type crystal lattice dislocations, since if compact, such defects have no step associated with them.', 'The Sb2Te3 NPs were re-dispersed in acetone and deposited on LG-GRP by dropping and spinning at 600\\u202frpm for 60\\u202fs (D-Sb2Te3/LG-GRP).', 'We developed all-inorganic TE inks with viscoelastic properties adequate for 3D printing by dispersing TE particles with molecular inorganic Sb2Te3 ChaM binders.', 'These donors would compensate the V Sb acceptors in the p+-type Sb2Te3 and therefore decrease the doping level of the Sb2Te3 overlayer.']\n"
     ]
    },
    {
     "name": "stderr",
     "output_type": "stream",
     "text": [
      "100%|██████████| 100/100 [00:09<00:00, 10.97it/s]\n",
      " 11%|█         | 2/19 [00:00<00:01, 13.61it/s]"
     ]
    },
    {
     "name": "stdout",
     "output_type": "stream",
     "text": [
      "19 ['Sr(NO3)2, Ti[OCH(CH3)2]4 and (CH3COO)3Y·6H2O were mixed in the mole ratio corresponding to nominal composition of SrTiO3 or Sr0.9Y0.1TiO3.', 'Fig. 1 shows the XRD patterns of the SrTiO3 and Sr0.9Y0.1TiO3 powders after calcination.', 'Besides that, Sr0.9Y0.1TiO3 powder was also found to be composed of the perovskite SrTiO3 phase without any other peaks.', 'The SrTiO3 and Sr0.9Y0.1TiO3 powders were hot pressed at 1473 K, which is significantly lower than that of the conventional SSR process, 1673 K. Additionally, these powders were also hot-pressed at 1673 K, and their thermoelectric performances were compared.', 'Fig. 2 shows the XRD patterns of these hot-pressed SrTiO3 and Sr0.9Y0.1TiO3 polycrystals.']\n"
     ]
    },
    {
     "name": "stderr",
     "output_type": "stream",
     "text": [
      "100%|██████████| 19/19 [00:02<00:00,  7.32it/s]\n",
      "100%|██████████| 1/1 [00:00<00:00,  9.09it/s]\n",
      "  0%|          | 0/28 [00:00<?, ?it/s]"
     ]
    },
    {
     "name": "stdout",
     "output_type": "stream",
     "text": [
      "1 ['CuRh0.9Mg0.1O2 polycrystal shows the large Seebeck coefficient and metallic resistivity [4], and the existence of pudding-mold type band structure which is similar to the that of NaxCoO2 is suggested by the theoretical calculation [7].']\n",
      "28 ['The substitution for Sn site by Sb in ZrNiSn was effective for the reduction of the electrical resistivity , which indicates that the number of the electron carrier increases by the substitution for Sn site by Sb, and ZrNiSn0.98Sb0.02 shows somewhat larger power factor (=S 2/ρ) than ZrNiSn.', 'In preliminary experiment, the effect of mechanical milling on thermoelectric properties of half-Heusler ZrNiSn was investigated, and the dimensionless figure of merit ZT of ZrNiSn increased by the milling process and the sample with a milling time of 5 h showed a maximum ZT of 0.4, which was smaller than that of ZrNiSn0.98Sb0.02 .', 'And so, in this study we have applied the mechanical milling process to preparing the half-Heusler ZrNiSn0.98Sb0.02 intermetallic compound with the minute crystal grains and tried to enhance the performance as a thermoelectric material.', 'The thermal conductivity κ was calculated from the measured D, C p and d using the relationship κ = DC p d.  The X-ray diffraction patterns for the ground powders of ZrNiSn and ZrNiSn0.98Sb0.02 after the arc-melting consist only of the diffraction peaks of ZrNiSn phase with half-Heusler MgAgAs-type structure.', 'Fig. 2 shows the SEM photographs for the sintered ZrNiSn0.98Sb0.02.']\n"
     ]
    },
    {
     "name": "stderr",
     "output_type": "stream",
     "text": [
      "100%|██████████| 28/28 [00:02<00:00, 10.15it/s]\n",
      "  3%|▎         | 1/29 [00:00<00:03,  7.52it/s]"
     ]
    },
    {
     "name": "stdout",
     "output_type": "stream",
     "text": [
      "29 ['From the case of STO, other well-known thermoelectric materials such as Ca3Co4O9 (CCO), CaMn0.98Nb0.02O3 (CMNO), and Zn0.98Al0.02O (ZAO), therefore, are hypothesized to respond the stimulus of UV light.', 'We investigate the role of Ag infiltration into the matrix of sintered polycrystalline samples of CaMn0.98Nb0.02O3, in order to improve the connectivity and the contact resistance.', 'By mixing PMMA beads with CaMn0.98Nb0.02O3 powder, where the former subsequently decomposes during sintering, ceramic matrices are produced with up to 50% porosity.', 'We find that the intrinsic thermoelectric properties of CaMn0.98Nb0.02O3, ZT 300K\\xa0=\\xa00.02 and ZT 1000K\\xa0=\\xa00.3 , are fully recovered in 2-terminal geometry with Ag infiltration and between 1.5 and 3 orders of magnitude better than without Ag.', 'Ceramic samples of CaMn0.98Nb0.02O3 were synthesized using a standard solid state technique described in the experimental section.']\n"
     ]
    },
    {
     "name": "stderr",
     "output_type": "stream",
     "text": [
      "100%|██████████| 29/29 [00:03<00:00,  9.45it/s]\n",
      "  5%|▍         | 2/42 [00:00<00:03, 12.50it/s]"
     ]
    },
    {
     "name": "stdout",
     "output_type": "stream",
     "text": [
      "42 ['For Ca0.9Yb0.1MnO3 composition, the concentration of the precursors in the solution was about 2.88 M of Ca(NO3)2·4H2O, 3.2 M of Mn(NO3)2·4H2O and 0.32 M of Yb(NO3)3·4.77H2O.', '6 ) was also investigated on the bar sample of Ca0.9Yb0.1MnO3 prepared (1100 °C, 2 h) for TE measurements.', 'The highest power factor PF is found in Ca0.9Yb0.1MnO3 due to the lowest value of resistivity ρ.', 'Ca0.9Yb0.1MnO3 has been identified as a material that might be suitable for thermoelectric applications.', 'We fabricated micro/nanograined Ca0.9Yb0.1MnO3 composites, with the aim of controlling the passage of electrons and phonons simultaneously.']\n"
     ]
    },
    {
     "name": "stderr",
     "output_type": "stream",
     "text": [
      "100%|██████████| 42/42 [00:03<00:00, 11.82it/s]\n",
      "  2%|▏         | 2/100 [00:00<00:06, 14.82it/s]"
     ]
    },
    {
     "name": "stdout",
     "output_type": "stream",
     "text": [
      "100 ['Herein, we investigate the effects of V alloying on the crystallization behavior and lattice thermal conductivity of amorphous NbCoSn alloys.', '5 (a) and (b) show the 1D-composition profiles across the GB of NbCoSn-Pt-AN in two APT datasets.', 'For temperatures below 100\\xa0K, the values of entropy and heat capacity of NbCoSn and VRhSn compounds are essentially zero in Fig. 7(c) and (d).', 'We demonstrated a novel approach for nanostructuring NbCoSn Heusler compounds through the addition of V to provide seeds for heterogeneous nucleation, which was effective for reducing the lattice thermal conductivity.', 'All specimens exhibited a broad halo peak, where only the specimen annealed at 783\\u2009K exhibited an additional peak that could be identified as the (220) reflection of the crystalline half-Heusler NbCoSn compound (see Fig. S2b).']\n"
     ]
    },
    {
     "name": "stderr",
     "output_type": "stream",
     "text": [
      "100%|██████████| 100/100 [00:09<00:00, 11.07it/s]\n",
      "100%|██████████| 1/1 [00:00<00:00, 10.31it/s]\n",
      "  5%|▌         | 1/20 [00:00<00:02,  9.35it/s]"
     ]
    },
    {
     "name": "stdout",
     "output_type": "stream",
     "text": [
      "1 ['While Cr1.3Mo6S8 crystallized in a triclinic structure, Mn1.3Mo6S8, Fe1.3Mo6S8, and Ni2.0Mo6S8 crystallized in a hexagonal structure.']\n",
      "20 ['These unicouples with p-legs made of CeFe3.5Co0.5Sb12 and n-legs of CoSb3 can both reduce the mass of 238PuO2 fuel and increase the specific electric power of the RPS .', 'Recently, a thin metallic coating, which is compatible with the material of the legs of SKUs (p-CeFe3.5Co0.5Sb12 and n-CoSb3), has been developed at the Jet Propulsion Laboratory (JPL), the California Institute of Technology, Pasadena, California.', 'The non-segmented unicouples had p-legs made of CeFe3.5Co0.5Sb12 and n-legs of CoSb3.', 'The segmented unicouples had p-legs made of CeFe3.5Co0.5Sb12 and Bi0.4Sb1.6Te3 segments and n-legs made of CoSb3 and Bi2Te2.95Se0.05 segments (Fig. 1) .', 'In previous tests performed in vacuum (∼9.0 × 10−7 torr), extensive sublimation of Sb and deposit on the surrounding fiberglass insulation occurred above 600–700 K. Fig. 2 shows a schematic with the dimensions of the MAR-03 SKU in which the 17.7 mm long n-leg was made of CoSb3 and the 19.1 mm long p-leg of CeFe3.5Co0.5Sb12.']\n"
     ]
    },
    {
     "name": "stderr",
     "output_type": "stream",
     "text": [
      "100%|██████████| 20/20 [00:02<00:00,  7.82it/s]\n",
      "  0%|          | 0/100 [00:00<?, ?it/s]"
     ]
    },
    {
     "name": "stdout",
     "output_type": "stream",
     "text": [
      "100 ['The ideality factor (n) and barrier height (ΦB) can be calculated by the following relations n=qKBT(d(V)d(lnJ)) ΦB=KBTqln(A*T2Js) Fig. 7 shows the semi-logarithmic plot of current density (J) versus applied voltage (V) for the annealed WO3, WO2.92, WO2.90 and WO2.89 thin films.', 'The process of modifying WO2.9 nanoparticles is discussed in the following as well as being shown in Fig. 1 .', 'CuWO4 (CuWO3.7·2H2O) films were obtained in two stages by Cu2O electrochemical deposition at the cathode current\\u2009−\\u20091\\xa0mA/cm2 from a solution of the composition (CuSO4- 0.05\\xa0mol/l citric acid 2\\xa0mol/l KOH− to pH\\u2009=\\u200910) and followed by anodized Cu2O in a solution of 1\\xa0M K2WO4 at a voltage of 3.5\\xa0V for 0.5\\xa0h. For deposition of two forms WO3 (α-WO2.9·H2O and WO2.5·2H2O) with different stoichiometry on a SnO2 substrate, we used electrochemical and combinate electrochemical–chemical methods.', 'To measure this quantity, the Li-intercalated WO2.9 sample was cooled in a magnetic field from point above Tc to 10 K and at this temperature the magnetic field was switched off.', 'The gas-sensing performances of bulk-WO3, bulk-WO2.9 and bulk-WO2.72 were tested in Fig S7.']\n"
     ]
    },
    {
     "name": "stderr",
     "output_type": "stream",
     "text": [
      "100%|██████████| 100/100 [00:08<00:00, 11.30it/s]\n",
      "100%|██████████| 1/1 [00:00<00:00, 10.53it/s]\n",
      "  0%|          | 0/3 [00:00<?, ?it/s]"
     ]
    },
    {
     "name": "stdout",
     "output_type": "stream",
     "text": [
      "1 ['While Cr1.3Mo6S8 crystallized in a triclinic structure, Mn1.3Mo6S8, Fe1.3Mo6S8, and Ni2.0Mo6S8 crystallized in a hexagonal structure.']\n",
      "3 ['Ca2.7Bi0.3Co4O9 and Ca0.9Bi0.1MnO3 materials were selected and prepared on the basis of the preliminary work, where comparable electrical performance in p- and n-type legs was achieved.', 'Further, the two products with nominal compositions of Ca0.9Bi0.1MnO3 (CBMO) and Ca2.7Bi0.3Co4O9 (CBCO) were milled in a mortar in alcohol media and dried separately.', 'The Bragg peaks on the diffraction pattern of Ca0.9Bi0.1MnO3 manganite (n-conductor) correspond to an orthorhombic cell with the Pnma space group, while those of Ca2.7Bi0.3Co4O9 cobaltite (p-conductor) belong to a phase identical to Ca3Co4O9, exhibiting monoclinic symmetry.']\n"
     ]
    },
    {
     "name": "stderr",
     "output_type": "stream",
     "text": [
      "100%|██████████| 3/3 [00:00<00:00,  8.40it/s]\n",
      "  2%|▏         | 2/100 [00:00<00:06, 15.75it/s]"
     ]
    },
    {
     "name": "stdout",
     "output_type": "stream",
     "text": [
      "100 ['The variations of the partial molar enthalpy and entropy of oxidation with (3−δ) in CaMnO3−δ are derived and compared with earlier reported data.', 'Na2WO4/CaMnO3 shows greater oxygen donation and higher conversions in general than the SrMnO3-based material, leading to higher COx yields (1.7–2.8%); this redox catalyst is capable of combusting 100% of the generated H2 in the system.', 'n=ni⋅ⅇ(EFD−EiκBT) Where niand E i are the carrier concentration and Fermi level of the intrinsic CaMnO3, E FD is Fermi level of the co-doped Ca0.92-xPr0.08SrxMnO3, k B is the Boltzman constant, T is the absolute temperature.', 'Clearly, Bi-substituted CaMnO3 shows the largest PF of all the samples.', 'Magnetic properties of rich La doped CaMnO3 still remain unsatisfactory explored since there are only few papers devoted to 0.2 ≤ x ≤ 0.5 region .']\n"
     ]
    },
    {
     "name": "stderr",
     "output_type": "stream",
     "text": [
      "100%|██████████| 100/100 [00:08<00:00, 12.21it/s]\n",
      "100%|██████████| 2/2 [00:00<00:00,  9.76it/s]"
     ]
    },
    {
     "name": "stdout",
     "output_type": "stream",
     "text": [
      "2 ['The Ca1\\u2fffxLnxMnO3 (Ln = Sm, Ho; 0.1 \\u2fe4 x \\u2fe4 0.4) films present a single-phase perovskite structure, except the Ca0.9Ho0.1MnO3 film, which exhibits the Ca2Mn3O8 impurity.', 'All deposited films were single-phase with perovskite structure and no trace of other impurity phases was found, except Ca0.9Ho0.1MnO3 film, which presented the Ca2Mn3O8 impurity phase.']\n"
     ]
    },
    {
     "name": "stderr",
     "output_type": "stream",
     "text": [
      "\n",
      "100%|██████████| 2/2 [00:00<00:00, 13.99it/s]\n",
      "  0%|          | 0/100 [00:00<?, ?it/s]"
     ]
    },
    {
     "name": "stdout",
     "output_type": "stream",
     "text": [
      "2 ['As a conclusion, after reaching a minimum value with 1\\xa0mol% Eu doping, a monotonic increase in band gap was observed by enhancing Eu amounts in Zn0.99Al0.01O lattice.', 'Then by Eu doping in lattice, Zn0.99Al0.01O thin films performed a linear trend through the high resistivity values.']\n",
      "100 ['This is the first indication for the decomposition of the c-In(OH)3 to c-In2O3.', 'Therefore, In2O3/ZnO nanocomposite was an excellent gas sensing material of TEA detection because of its mesoporous structure of nanowires growing on microrods, abundant oxygen vacancies and the interfacial n-n heterojunction.', 'Firstly, the electronic sensitization effect between Au nanoparticles and In2O3 nanosheet improves the gas sensitivity.', 'Interestingly, the presence of an IL layer in these In(OH)3/In2O3 nanomaterials (Observed by TGA, XPS analysis, and 13C CP-MAS NMR) displays the typical signals of the imidazolium cation in hybrid materials also induces the photo-catalytic generation of H2 (Fig.', 'Regarding the Pd-In2O3 catalyst, the in situ generation of intermetallics is unlikely.']\n"
     ]
    },
    {
     "name": "stderr",
     "output_type": "stream",
     "text": [
      "100%|██████████| 100/100 [00:08<00:00, 11.50it/s]\n",
      "100%|██████████| 5/5 [00:00<00:00, 1668.11it/s]\n",
      "100%|██████████| 1/1 [00:00<00:00, 16.39it/s]\n",
      "  0%|          | 0/46 [00:00<?, ?it/s]"
     ]
    },
    {
     "name": "stdout",
     "output_type": "stream",
     "text": [
      "5 ['The temperature dependence of κ of CaMn0.96Ru0.04O3−δ, which has the largest power factor, is shown in the inset of Fig. 4 .', 'The calculated κ e values of CaMn0.96Ru0.04O3−δ are 0.14–0.19 W/mK from 500 to 1000 K. It indicates that κ comes largely from the lattice component.', 'The Z value of CaMn0.96Ru0.04O3−δ is 0.64×10−4 K−1 at 1000 K, presented in Fig. 4.', 'CaMn0.96Ru0.04O3−δ has the largest power factor, 1.85×10−4 W/mK2 at 1000 K, among all the samples.', 'The thermal conductivity and the figure of merit of CaMn0.96Ru0.04O3−δ is 2.88 W/mK and 0.64×10−4 K−1 at 1000 K, respectively.']\n",
      "1 ['The W18O49 (WO2.722) is the highest oxygen-deficient stable phase.']\n",
      "46 ['The structural, optoelectronic and thermoelectric properties of Ca5Al2Sb6 under applied external pressures have been studied using the full potential linear augmented plane wave method.', 'As a novel result, the thermoelectric performance of n-type and p-type doping of Ca5Al2Sb6 is related to the value of pressure.', 'According to the thermoelectric results, the n-type one has the highest ZT in comparison with the p-type Ca5Al2Sb6 material.', 'One of the main aim of this work is to investigate the effect of pressure on the optoelectronic and thermoelectric properties of Ca5Al2Sb6 compound.', 'Yang et al. results show that the band gap and electrical conductivity change with increasing pressure for Ca5Al2Sb6 .']\n"
     ]
    },
    {
     "name": "stderr",
     "output_type": "stream",
     "text": [
      "100%|██████████| 46/46 [00:04<00:00,  9.49it/s]\n",
      "  4%|▎         | 2/57 [00:00<00:03, 14.49it/s]"
     ]
    },
    {
     "name": "stdout",
     "output_type": "stream",
     "text": [
      "57 ['A similar synthesis condition was followed to prepare the simple perovskite (La0.95Sr0.05CoO3) sample.', 'Further, the diffraction pattern of La0.95Sr0.05CoO3 shows the rhombohedral structure with the R3¯c space group, and the corresponding refinement pattern is shown in Fig.', 'The PXRD for simple perovskite (La0.95Sr0.05CoO3) and high-entropy (LaNdPrSmEu)0.95Sr0.05CoO3 perovskite is shown in Fig.', 'The La0.95Sr0.05CoO3 crystallizes in a rhombohedral structure with two formula units.', 'The tolerance factor (t) calculated for all the samples indicates that the tolerance factor further deviates in HEOx compared to simple perovskite oxide (t\\xa0=\\xa00.93 for La0.95Sr0.05CoO3 and t\\xa0=\\xa00.92 for (LaNdPrSmEu)0.95Sr0.05CoO3).']\n"
     ]
    },
    {
     "name": "stderr",
     "output_type": "stream",
     "text": [
      "100%|██████████| 57/57 [00:05<00:00, 10.73it/s]\n",
      " 22%|██▏       | 2/9 [00:00<00:00, 12.42it/s]"
     ]
    },
    {
     "name": "stdout",
     "output_type": "stream",
     "text": [
      "9 ['In this work, laser anneals are therefore applied to demonstrate their potential in the use of films of a CuCr0.97Mg0.03O2 delafossite, deposited on ordinary glass substrates.', '100\\xa0nm thick CuCr0.97Mg0.03O2 films were deposited by radio-frequency cathodic sputtering from home-made ceramic target, according to a method already described in a previous work [21].', 'Films prepared by RF magnetron sputtering of a CuCr0.97Mg0.03O2 target were heat treated by a low power laser spot of a conventional photolithography machine, to obtain pure delafossite.', 'In order to find the optimal thickness for a higher PF which is rarely investigated for oxide thin films, in the present work, we have studied the relation between the TE properties of CuCr0.97Mg0.03O2 thin films and the thickness through microstructural effects.', 'Polycrystalline CuCr0.97Mg0.03O2 powder was prepared by grinding and mixing the starting commercial oxides, Cu2O, Cr2O3, and MgO with appropriate proportions.']\n"
     ]
    },
    {
     "name": "stderr",
     "output_type": "stream",
     "text": [
      "100%|██████████| 9/9 [00:00<00:00, 11.58it/s]\n",
      " 67%|██████▋   | 2/3 [00:00<00:00, 10.87it/s]"
     ]
    },
    {
     "name": "stdout",
     "output_type": "stream",
     "text": [
      "3 ['While Cr1.3Mo6S8 crystallized in a triclinic structure, Mn1.3Mo6S8, Fe1.3Mo6S8, and Ni2.0Mo6S8 crystallized in a hexagonal structure.', 'However, the corresponding values and temperature dependent behavior of Ni2.0Mo6S8 were different from those of M1.3Mo6S8 (M: Cr, Mn, Fe).', 'For Ni2.0Mo6S8, as temperature increased, the Seebeck coefficient and thermal conductivity increased while the electrical resistivity decreased.']\n"
     ]
    },
    {
     "name": "stderr",
     "output_type": "stream",
     "text": [
      "100%|██████████| 3/3 [00:00<00:00, 12.00it/s]\n",
      "  8%|▊         | 2/25 [00:00<00:01, 11.68it/s]"
     ]
    },
    {
     "name": "stdout",
     "output_type": "stream",
     "text": [
      "25 ['In this work, we report on the structural properties of epitaxial CuCr0.95Mg0.05O2 films grown on c-plane sapphire substrates using pulsed laser deposition.', 'Fig. 1 shows the XRD pattern for CuCr0.95Mg0.05O2 thin films grown at an oxygen pressure of 10 mTorr and at temperatures of 500, 600, and 700 °C.', 'In order to investigate the crystallinity of the CuCr0.95Mg0.05O2 thin films, full-width at half-maximum (FWHM) was measured from the rocking curve through the (0 0 0 6) plane.', 'Fig. 2 shows the pole figures for CuCr0.95Mg0.05O2 thin films grown at the temperatures of 700 and 600 °C.', 'In Fig. 2(a), the sixfold rotational symmetry points at χ (kai)=74.8° were diffracted from the (0 1 2) plane of CuCr0.95Mg0.05O2 and threefold rotational symmetry points at χ=37.5° were diffracted from (1 0 4) plane of c-plane sapphire substrate.']\n"
     ]
    },
    {
     "name": "stderr",
     "output_type": "stream",
     "text": [
      "100%|██████████| 25/25 [00:02<00:00, 10.06it/s]\n",
      " 50%|█████     | 1/2 [00:00<00:00,  6.85it/s]"
     ]
    },
    {
     "name": "stdout",
     "output_type": "stream",
     "text": [
      "2 ['For these reasons, oxide-based TE modules were fabricated using p-type pure Ca3Co4O9 and n-type Ca0.9Nd0.1MnO3 legs for power generation at temperatures in excess of 1000\\xa0K. This study involved the use of Ag sheets with a Ag paste as electrode materials and alumina plates as a substrate for the modules.', 'The p-type pure Ca3Co4O9 legs were manufactured by spark plasma sintering, and the n-type Ca0.9Nd0.1MnO3 legs were sintered by a conventional process at atmospheric pressure.']\n"
     ]
    },
    {
     "name": "stderr",
     "output_type": "stream",
     "text": [
      "100%|██████████| 2/2 [00:00<00:00,  8.55it/s]\n",
      "  2%|▏         | 2/100 [00:00<00:09, 10.36it/s]"
     ]
    },
    {
     "name": "stdout",
     "output_type": "stream",
     "text": [
      "100 ['BaPbO3 additive in Fig. 1C1 only improves a little.', 'Azuma et al. also prepared dense ceramics of BaPbO3 by weighing out a starting molar ratio of Pb/Ba = 1.01, milling the calcined powders, and firing the pressed samples at 1323 K. In contrast to these preparations with reactions between solid raw materials, Kodama et al. prepared dense ceramics of BaPbO3 via oxalate coprecipitation from nitrate solution.', 'Therefore, we fabricated the Pb(Zr,Ti)O3 films on the BaPbO3 film electrodes using the same technique in this study and evaluated the ferroelectric properties.', 'For example for (Ba0.8Sr0.2)PbO3 ceramic an orthorhombic symmetry described by the Imma space group was assumed analogically to that of BaPbO3 .', 'Among published papers only a few report data on the crystalline structure of the end family members i.e. BaPbO3 and SrPbO3.']\n"
     ]
    },
    {
     "name": "stderr",
     "output_type": "stream",
     "text": [
      "100%|██████████| 100/100 [00:07<00:00, 12.64it/s]\n",
      "  3%|▎         | 2/74 [00:00<00:04, 16.67it/s]"
     ]
    },
    {
     "name": "stdout",
     "output_type": "stream",
     "text": [
      "74 ['In this work, hot-pressed pellets of the K2Bi8Se13 family of compounds were prepared for the first time.', 'The pellet fabrication of selected members of the K2Bi8Se13−xSx series was studied.', 'These optimum conditions were then applied for the K2Bi8Se13−xSx series, and the thermoelectric properties of the stoichiometric members for x\\xa0=\\xa00, 4, 6, and 8 were studied.', 'Research on complex bismuth chalcogenide compounds has shown that K2Bi8Se13-based materials present many attractive features suggesting them as promising for thermoelectric applications .', 'K2Bi8Se13 has a complex crystal structure with low symmetry unit cell and weakly bound K+ ions in cages and possesses low thermal conductivity.']\n"
     ]
    },
    {
     "name": "stderr",
     "output_type": "stream",
     "text": [
      "100%|██████████| 74/74 [00:06<00:00, 12.11it/s]\n",
      "  2%|▏         | 2/100 [00:00<00:05, 16.81it/s]"
     ]
    },
    {
     "name": "stdout",
     "output_type": "stream",
     "text": [
      "100 ['In addition, the growth temperature profile of Mo3Te4 crystals is between those of 2H-MoTe2 and 1T’-MoTe2 (generally 1123-1223 K).', 'And the electrical/magneto-transport properties of Mo3Te4 are completely unknown.', 'The electrical resistivity, Seebeck coefficient, and thermal conductivity of Mo3Te4 are measured in the temperature range from room temperature to about 1000 K, and the ZT is evaluated in the same temperature range.', 'The Seebeck coefficient of Mo3Te4 is positive in the whole temperature range, showing that the majority of charge carriers are holes.', 'Mo-Te can also form polymorphs of Mo3Te4 having a hexagonal rhombohedral structure (R3¯, No.']\n"
     ]
    },
    {
     "name": "stderr",
     "output_type": "stream",
     "text": [
      "100%|██████████| 100/100 [00:08<00:00, 11.37it/s]\n",
      " 67%|██████▋   | 2/3 [00:00<00:00, 13.25it/s]"
     ]
    },
    {
     "name": "stdout",
     "output_type": "stream",
     "text": [
      "3 ['Laser-induced transverse voltage effect in c-axis inclined CuCr0.98Mg0.02O2 thin films with dominant phonon thermal conductivity', 'Despite having a strong impact on transport and magnetic properties, Mg doping affects only slightly the crystal and magnetic structures, as shown in CuCr0.98Mg0.02O2.', 'The CuCr0.98Mg0.02O2 sample was synthesized by a solid state reaction. ']\n"
     ]
    },
    {
     "name": "stderr",
     "output_type": "stream",
     "text": [
      "100%|██████████| 3/3 [00:00<00:00, 14.29it/s]\n",
      "100%|██████████| 1/1 [00:00<00:00,  9.89it/s]\n",
      "  0%|          | 0/100 [00:00<?, ?it/s]"
     ]
    },
    {
     "name": "stdout",
     "output_type": "stream",
     "text": [
      "1 ['Finally, we propose a series of material candidates that host butterflylike CICE NLs, such as ZrX2 (X = P, As), Tl2GeTe5, CYB2 , and Al2Y3.']\n",
      "100 ['01-084-2177) corresponding to the tetragonal Nd2CuO4 (Fig.', 'The increased sharpness of the characteristic diffraction lines due to Nd2CuO4 of Fig.', 'The parameters of the p-d model are determined by comparison with the ARPES data for undoped Nd2CuO4.', 'Based on the results, it is unlikely that the superconductivity in T′-Nd2CuO4 is induced by hole doping due to cation deficiencies.', 'Given these factors and that the K2NiF4 type oxides have previously shown considerable promise as possible cathode materials, this preliminary work reports on the performance of Ce doped Nd2CuO4±δ as a SOFC cathode on both Ce0.9Gd0.1O1.95 (CGO) and La0.9Sr0.1Ga0.8Mg0.2O3−y (LSGM) based electrolytes.']\n"
     ]
    },
    {
     "name": "stderr",
     "output_type": "stream",
     "text": [
      "100%|██████████| 100/100 [00:09<00:00, 11.05it/s]\n",
      "  1%|          | 1/100 [00:00<00:10,  9.26it/s]"
     ]
    },
    {
     "name": "stdout",
     "output_type": "stream",
     "text": [
      "100 ['These resistivities were relatively high, when compared with the results of pellet samples (e.g. La0.8Sr0.2CoO3: ca. 4×10−4 Ω cm) , due to the existence of boundaries of a powder sample.', 'The aforementioned increase in activity was accompanied by an increase in the number of transferred electrons, from ca. 2, for La0.8Sr0.2FeO3-δ/C, to ca. 4, for La0.8Sr0.2CoO3-δ/C, which indicates a gradual change in the ORR pathway.', 'It is thus important to further test the catalytic activity of La0.8Sr0.2CoO3 with a support to meet the future industrial needs.', 'Fig. 4 shows the XRD patterns of La0.8Sr0.2CoO3 powders obtained from the gel after heat treatment in different temperatures ranging between 300 and 900 °C.', 'The activities of LaCoO3 and La0.8Sr0.2CoO3 in the oxidation of toluene are plotted in Fig. 3 .']\n"
     ]
    },
    {
     "name": "stderr",
     "output_type": "stream",
     "text": [
      "100%|██████████| 100/100 [00:09<00:00, 10.99it/s]\n",
      "  2%|▏         | 2/100 [00:00<00:07, 12.99it/s]"
     ]
    },
    {
     "name": "stdout",
     "output_type": "stream",
     "text": [
      "100 ['Diffraction peaks of the samples are precisely indexed to a delafossite structure of CuCrO2 (space group: R-3m (166)), which matched the JCPDS Card (No.', 'The photovoltaic characteristics and the optical properties were measured on the p-CuCrO2/n-ZnO junctions.', 'CuCrO2 nanoparticles were prepared by a sol–gel technique.', 'In addition, the hydrogen output rate of a CuCrO2-CeO2 catalyst was compared with those of other reported catalysts at various operating temperatures.', 'However, at low temperature, the magnetic data for CuCr1−xCoxO2 shows evidence for weak ferromagnetism which is reinforced by the observation of a hysteresis loop at 4 K. This substitution to Cr3+ by Co3+ in CuCrO2 induce slight lattice distortion but modulate the AFM order of Cr3+ ions, which help to tune the spin chirality and to develop other spin orders benefiting to enhanced Co.']\n"
     ]
    },
    {
     "name": "stderr",
     "output_type": "stream",
     "text": [
      "100%|██████████| 100/100 [00:08<00:00, 11.21it/s]\n",
      "  2%|▏         | 1/43 [00:00<00:04, 10.00it/s]"
     ]
    },
    {
     "name": "stdout",
     "output_type": "stream",
     "text": [
      "43 ['The sample of Sm0.5Ca0.5MnO3 was synthesized by standard solid-state reaction route using oxides in stoichiometric amount of Mn2O3, CaCO3 and Sm2O3 of high purity (99.99\\xa0%, Sigma-Aldrich).', 'Fig. 1 shows a good fitting of the experimental measured date and the theoretical XRD patterns of polycrystalline Sm0.5Ca0.5MnO3.', 'Fig. 2 shows the temperature dependent variation of normalized magnetization for Sm0.5Ca0.5MnO3 with varying fields of 100 Oe, 500 Oe, 0.1\\xa0T, 1\\xa0T, 2\\xa0T and 5\\xa0T. At low applied field of 100 Oe, two anomalies (peaks) are prominent in the temperature dependence of magnetization.', 'The Sm0.5Ca0.5MnO3 shows a paramagnetic (PM) behavior at lower fields and high temperatures.', 'In order to explore the possible transport mechanism, the Sm0.5Ca0.5MnO3 is investigated for different hopping models of conduction in the temperature range of our findings.']\n"
     ]
    },
    {
     "name": "stderr",
     "output_type": "stream",
     "text": [
      "100%|██████████| 43/43 [00:04<00:00,  9.12it/s]\n",
      "  1%|          | 1/100 [00:00<00:11,  8.77it/s]"
     ]
    },
    {
     "name": "stdout",
     "output_type": "stream",
     "text": [
      "100 ['For the Co-doped ZnO thin film, the opposite behavior can be seen due to the sp-d exchange interactions between the band electrons and localized d electrons of Co ions substituting in Zn ion site in the lattice [,].', 'As the substrate temperature increases, the crystallinity of ZnO films becomes higher and the number of grains becomes more, which is consistent with the XRD results.', 'This result further suggests that ZnO is present in certain points of the layers and non-uniformly distributed along the absorbers.', 'Further, the boundary layer region reduces for ZnO-SAE50 and it is optimum against SAE50.', 'Co-precipitation of indium-doped ZnO with various indium dopant concentrations 0–5 wt.% were obtained by calcination process at 500\\xa0°C for 2\\xa0h. All samples showed a hexagonal wurtzite crystal structure confirming the synthesis process efficiency.']\n"
     ]
    },
    {
     "name": "stderr",
     "output_type": "stream",
     "text": [
      "100%|██████████| 100/100 [00:08<00:00, 12.16it/s]\n",
      "  2%|▏         | 2/100 [00:00<00:06, 14.49it/s]"
     ]
    },
    {
     "name": "stdout",
     "output_type": "stream",
     "text": [
      "100 ['On the other hand, stoichiometric LaCoO3 perovskite usually presents some oxygen deficiency in the lattice, represented by LaCoO3−δ, and the charge balance is accomplished by the presence of some cobalt as Co2+.', 'LaCoO3 particles with clear edges and corners appear.', 'Tiwari et al. have doped Sm3+ ion in the LaCoO3 perovskite material and reported its structural, Raman and dielectric properties [].', 'For S3 (Fig. 3(c4)) and S4 (Fig. 3(d4)), there were only characteristic lattice fringes for LaCoO3 phase.', 'Therefore, the number of cracks in LaCoO3 synthesized using 0.007 mol of citric acid appears to be lower than the number in the other LaCoO3 using 0.011 mol of citric acid.']\n"
     ]
    },
    {
     "name": "stderr",
     "output_type": "stream",
     "text": [
      "100%|██████████| 100/100 [00:08<00:00, 11.26it/s]\n",
      " 50%|█████     | 1/2 [00:00<00:00,  8.40it/s]"
     ]
    },
    {
     "name": "stdout",
     "output_type": "stream",
     "text": [
      "2 ['A number of ternary bismuth chalcogenides have been synthesized, such as KBi6.33S10 [24], K2Bi8S13 [24], β-K2Bi8Se13 [25], and K2.5Bi8.5Se14.', 'For instance, KBi6.33S10 and K2Bi8S13 [24] were synthesized using potassium sulfide and bismuth sulfide at high temperature, and the results showed that the thermal conductivity of KBi6.33S10 is significantly lower than that of Bi2Te3 and both compounds are semiconductors with an electrical conductivity of 102 S/cm at 300 K. McCarthy et al. [26] found that γ-CsBiS2 and K2Bi8Sel3 are both n-type semiconductor materials and their electrical conductivity at room temperature is 10− 2 S/cm.']\n"
     ]
    },
    {
     "name": "stderr",
     "output_type": "stream",
     "text": [
      "100%|██████████| 2/2 [00:00<00:00,  5.57it/s]\n",
      " 33%|███▎      | 1/3 [00:00<00:00,  8.90it/s]"
     ]
    },
    {
     "name": "stdout",
     "output_type": "stream",
     "text": [
      "3 [\"In the present work, a novel photocatalyst polyacrylamide/Ni0.02Zn0.98O (PAM/NZP) was synthesized successfully by addition of nanoparticles during polymerization of acrylamide in aqueous medium using ammonium persulfate and N,N'-methylenebis(acrylamide).\", 'The effect of adsorption capacity of cross-linked polyacrylamide on photocatalytic activity of Ni0.02Zn0.98O was also studied. ', 'In this study, a selective method for removal of dyes from aqueous solutions using nanocomposites of nickel doped zinc oxide nanoparticles (Ni0.02Zn0.98O) photocatalyst supported on bentonite clay was investigated. ']\n"
     ]
    },
    {
     "name": "stderr",
     "output_type": "stream",
     "text": [
      "100%|██████████| 3/3 [00:00<00:00, 11.39it/s]\n"
     ]
    }
   ],
   "source": [
    "record = {}\n",
    "for i, n in enumerate(df['name']):\n",
    "    similarity = 1 - cosine(get_final_embedding(n, tokenizer, model, zt_json), thermoelectric_embedding)\n",
    "    token_num = len(tokenizer.tokenize(n))\n",
    "    record[n] = {}\n",
    "    record[n]['sim'] = similarity\n",
    "    record[n]['token_num'] = token_num\n",
    "    record[n]['thermo_rank'] = i+1"
   ]
  },
  {
   "cell_type": "code",
   "execution_count": 155,
   "id": "12bee591",
   "metadata": {},
   "outputs": [
    {
     "name": "stdout",
     "output_type": "stream",
     "text": [
      "[('Bi2Te3', {'sim': 0.47818097472190857, 'token_num': 1, 'thermo_rank': 16, 'sim_rank': 1}), ('Sb2Te3', {'sim': 0.43377605080604553, 'token_num': 2, 'thermo_rank': 43, 'sim_rank': 2}), ('Cu2Se', {'sim': 0.3476353883743286, 'token_num': 2, 'thermo_rank': 1, 'sim_rank': 3}), ('Cu1.98Se', {'sim': 0.2988775372505188, 'token_num': 4, 'thermo_rank': 12, 'sim_rank': 4}), ('CeFe4Sb12', {'sim': 0.28699296712875366, 'token_num': 5, 'thermo_rank': 27, 'sim_rank': 5})]\n"
     ]
    }
   ],
   "source": [
    "sorted_record = sorted(record.items(), key=lambda item:item[1]['sim'], reverse=True)\n",
    "for_comparison = [i+1 for i in range(len(df['name']))]\n",
    "comparison = []\n",
    "for n in df['name']:\n",
    "    for i, x in enumerate(sorted_record):\n",
    "        if n == x[0]:\n",
    "            comparison.append(i+1)\n",
    "            record[n]['sim_rank'] = i+1\n",
    "print(sorted_record[:5])"
   ]
  },
  {
   "cell_type": "code",
   "execution_count": 156,
   "id": "5404181d",
   "metadata": {},
   "outputs": [
    {
     "name": "stdout",
     "output_type": "stream",
     "text": [
      "[1, 2, 3, 4, 5, 6, 7, 8, 9, 10, 11, 12, 13, 14, 15, 16, 17, 18, 19, 20, 21, 22, 23, 24, 25, 26, 27, 28, 29, 30, 31, 32, 33, 34, 35, 36, 37, 38, 39, 40, 41, 42, 43, 44, 45, 46, 47, 48, 49, 50, 51, 52, 53, 54, 55, 56, 57, 58, 59, 60, 61, 62, 63, 64, 65, 66, 67, 68, 69, 70, 71, 72, 73, 74, 75, 76, 77, 78, 79]\n",
      "[3, 30, 31, 72, 51, 19, 23, 14, 35, 22, 24, 4, 12, 79, 6, 1, 17, 65, 60, 21, 42, 26, 7, 41, 10, 13, 5, 20, 29, 62, 11, 61, 15, 50, 28, 34, 57, 45, 69, 67, 43, 56, 2, 48, 66, 16, 38, 59, 27, 46, 25, 75, 44, 63, 39, 74, 77, 49, 52, 76, 40, 32, 55, 47, 58, 68, 73, 18, 9, 64, 8, 53, 37, 70, 54, 78, 33, 36, 71]\n",
      "SpearmanrResult(correlation=0.3961538461538462, pvalue=0.0003014824515726519)\n"
     ]
    }
   ],
   "source": [
    "print(for_comparison)\n",
    "print(comparison)\n",
    "res = stats.spearmanr(for_comparison, comparison)\n",
    "print(res)"
   ]
  },
  {
   "cell_type": "code",
   "execution_count": 157,
   "id": "9a03600d",
   "metadata": {},
   "outputs": [
    {
     "name": "stdout",
     "output_type": "stream",
     "text": [
      "[3, 30, 31, 72, 51, 19, 23, 14, 35, 22, 24, 4, 12, 79, 6, 1, 17, 65, 60, 21, 42, 26, 7, 41, 10, 13, 5, 20, 29, 62, 11, 61, 15, 50, 28, 34, 57, 45, 69, 67, 43, 56, 2, 48, 66, 16, 38, 59, 27, 46, 25, 75, 44, 63, 39, 74, 77, 49, 52, 76, 40, 32, 55, 47, 58, 68, 73, 18, 9, 64, 8, 53, 37, 70, 54, 78, 33, 36, 71]\n",
      "[2, 7, 13, 6, 2, 9, 7, 8, 4, 6, 13, 4, 5, 3, 5, 1, 3, 4, 10, 7, 9, 9, 5, 8, 5, 5, 5, 10, 9, 2, 3, 6, 3, 13, 9, 9, 10, 10, 7, 7, 10, 7, 2, 9, 9, 10, 9, 10, 3, 7, 10, 4, 6, 10, 3, 10, 7, 1, 9, 5, 5, 7, 10, 6, 10, 10, 3, 5, 4, 10, 5, 4, 8, 3, 8, 1, 2, 7, 7]\n",
      "SpearmanrResult(correlation=0.1701671509434133, pvalue=0.13378814764509875)\n"
     ]
    }
   ],
   "source": [
    "sim_rank = []\n",
    "token_num = []\n",
    "for i in record.keys():\n",
    "    sim_rank.append(record[i]['sim_rank'])\n",
    "    token_num.append(record[i]['token_num'])\n",
    "print(sim_rank)\n",
    "print(token_num)\n",
    "res = stats.spearmanr(sim_rank, token_num)\n",
    "print(res)"
   ]
  },
  {
   "cell_type": "code",
   "execution_count": 177,
   "id": "ea6aa995",
   "metadata": {},
   "outputs": [
    {
     "name": "stdout",
     "output_type": "stream",
     "text": [
      "39\n",
      "SpearmanrResult(correlation=0.5133603238866397, pvalue=0.0008311967403019619)\n"
     ]
    }
   ],
   "source": [
    "for_comparison = []\n",
    "comparison = []\n",
    "for i in record.keys():\n",
    "    if record[i]['token_num'] in [7, 8, 9,10]:\n",
    "        for_comparison.append(record[i]['thermo_rank'])\n",
    "        comparison.append(record[i]['sim_rank'])\n",
    "print(len(comparison))\n",
    "res = stats.spearmanr(for_comparison, comparison)\n",
    "print(res)"
   ]
  },
  {
   "cell_type": "code",
   "execution_count": null,
   "id": "36d9d306",
   "metadata": {},
   "outputs": [],
   "source": [
    "import json\n",
    "\n",
    "json_str = json.dumps(record, indent=4)\n",
    "with open('zt_84_bert.json', 'w', encoding='utf-8') as json_file:\n",
    "    json_file.write(json_str)"
   ]
  },
  {
   "cell_type": "code",
   "execution_count": null,
   "id": "a33d68d8",
   "metadata": {},
   "outputs": [],
   "source": []
  }
 ],
 "metadata": {
  "kernelspec": {
   "display_name": "Python 3",
   "language": "python",
   "name": "python3"
  },
  "language_info": {
   "codemirror_mode": {
    "name": "ipython",
    "version": 3
   },
   "file_extension": ".py",
   "mimetype": "text/x-python",
   "name": "python",
   "nbconvert_exporter": "python",
   "pygments_lexer": "ipython3",
   "version": "3.8.8"
  }
 },
 "nbformat": 4,
 "nbformat_minor": 5
}
