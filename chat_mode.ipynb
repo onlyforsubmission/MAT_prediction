{
 "cells": [
  {
   "cell_type": "code",
   "execution_count": 1,
   "id": "59a7c90a",
   "metadata": {},
   "outputs": [],
   "source": [
    "import pandas as pd\n",
    "\n",
    "import json\n",
    "\n",
    "file_path = 'for_spearman/'\n",
    "file_name = 'zt_ori_84.txt'\n",
    "df = pd.read_csv(file_path+file_name, sep='\\t', header=None, names=['name', 'value'])"
   ]
  },
  {
   "cell_type": "code",
   "execution_count": 2,
   "id": "f6d1de00",
   "metadata": {},
   "outputs": [
    {
     "name": "stdout",
     "output_type": "stream",
     "text": [
      "['Ba8Ga16Ge30', 'AgCrSe2', 'Bi2Te3', 'Si0.8Ge0.2', 'LaFe3CoSb12', 'WO2.9', 'Ba0.4Sr0.6PbO3', 'Fe1.3Mo6S8', 'Ca2.7Bi0.3Co4O9', 'Tl0.02Pb0.98Te', 'Sb2Te3', 'Ca0.9Ho0.1MnO3', 'Cr1.3Mo6S8', 'Ca3AlSb3', 'La0.95Sr0.05CoO3', 'Zn0.99Al0.01O', 'Ca0.9Bi0.1MnO3', 'Na0.02Pb0.98Te', 'Fe1.94Ti0.06O3', 'Zr0.98Nb0.02NiSn', 'CaMn0.98Nb0.02O3', 'In2O3', 'Bi2Sr2Co2O8', 'In0.1Co4Sb12', 'Ca2Co2O5', 'Ba0.3Sr0.6La0.1TiO3', 'CuCr0.95Mg0.05O2', 'Zr0.35Hf0.35Ti0.3NiSn', 'In1.8Ge0.2O3', 'Tl0.01Pb0.99Te', 'ZrNiSn0.98Sb0.02', 'CuRh0.9Mg0.1O2', 'Sm0.5Ca0.5MnO3', 'Tl9BiTe6', 'TiNiSn', 'Sr0.9La0.1TiO3', 'Sr1.6La0.4Nb2O7', 'In0.2Co4Sb12', 'Yb14MnSb11', 'LaCoO3', 'Mg2Si', 'In1.985Ge0.015O3', 'CeFe4Sb12', 'Zr0.5Hf0.5NiSn', 'Ca5Al2Sb6', 'Zn0.98Al0.02O', 'Ni0.02Zn0.98O', 'Sr0.61Ba0.39Nb2O6', 'Nd2CuO4', 'CuCr0.97Mg0.03O2', 'Zr0.25Hf0.25Ti0.5NiSn', 'Zn0.95Al0.05O', 'NbCoSn', 'Cu1.98Se', 'NaCo2O4', 'Mn1.3Mo6S8', 'Sr0.9Y0.1TiO3', 'Cu2Se', 'CuCrO2', 'ZnO', 'La0.98Sr0.02CoO3', 'Tl2SnTe5', 'CaMnO3', 'Ni2.0Mo6S8', 'K2Bi8Se13', 'Mg2Si0.98Bi0.02', 'CeFe3.5Co0.5Sb12', 'Ca0.7Y0.3MnO3', 'Mo3Te4', 'CeFe3CoSb12', 'ZrNiSn', 'BaPbO3', 'SrTi0.8Nb0.2O3', 'Nd2Cu0.98Ni0.02O4', 'In0.25Co4Sb12', 'Zn4Sb3', 'CuCr0.98Mg0.02O2', 'WO2.722', 'La0.8Sr0.2CoO3', 'Ca0.9Yb0.1MnO3', 'Ca3Co4O9', 'Ca0.9Nd0.1MnO3', 'Tl2GeTe5', 'Cu4.0Mo6S8']\n"
     ]
    }
   ],
   "source": [
    "import random\n",
    "\n",
    "random.seed(3) # random the list instead of input a ranked one (otherwise may influence ChatGPT)\n",
    "answer = list(df['name'])\n",
    "test = list(df['name']).copy()\n",
    "random.shuffle(test)\n",
    "print(test)"
   ]
  },
  {
   "cell_type": "code",
   "execution_count": 4,
   "id": "5ceb1a5d",
   "metadata": {},
   "outputs": [],
   "source": [
    "materials_ranking = [\n",
    "    'Bi2Te3',\n",
    "    'PbTe',\n",
    "    'Si0.8Ge0.2',\n",
    "    'Zn4Sb3',\n",
    "    'SrTi0.8Nb0.2O3',\n",
    "    'Bi2Se3',\n",
    "    'Ca3Co4O9',\n",
    "    'Cu2Se',\n",
    "    'Mg2Si',\n",
    "    'NaCo2O4',\n",
    "    'Ba0.4Sr0.6TiO3',\n",
    "    'Ni0.02Zn0.98O',\n",
    "    'Cu1.98Se',\n",
    "    'CeFe4Sb12',\n",
    "    'Ca0.9Bi0.1MnO3',\n",
    "    'Tl9BiTe6',\n",
    "    'ZnO',\n",
    "    'Zr0.25Hf0.25Ti0.5NiSn',\n",
    "    'CuCr0.97Mg0.03O2',\n",
    "    'La0.98Sr0.02CoO3',\n",
    "    'Yb14MnSb11',\n",
    "    'Sr0.9La0.1TiO3',\n",
    "    'Zn0.95Al0.05O',\n",
    "    'Ni2.0Mo6S8',\n",
    "    'CeFe3CoSb12',\n",
    "    'CaMnO3',\n",
    "    'Cu4.0Mo6S8',\n",
    "    'Sr0.61Ba0.39Nb2O6',\n",
    "    'Zn0.98Al0.02O',\n",
    "    'BaPbO3',\n",
    "    'Na0.02Pb0.98Te',\n",
    "    'Tl2SnTe5',\n",
    "    'Bi2Sr2Co2O8',\n",
    "    'Ca0.9Ho0.1MnO3',\n",
    "    'LaCoO3',\n",
    "    'Zr0.5Hf0.5NiSn',\n",
    "    'Ca0.9Nd0.1MnO3',\n",
    "    'Sm0.5Ca0.5MnO3',\n",
    "    'Sr1.6La0.4Nb2O7',\n",
    "    'Cr1.3Mo6S8',\n",
    "    'Ba0.3Sr0.6La0.1TiO3',\n",
    "    'Zn4Sb3',\n",
    "    'CuCr0.98Mg0.02O2',\n",
    "    'Ca3AlSb3',\n",
    "    'Bi2Te3',\n",
    "    'BaPbO3',\n",
    "    'Na0.02Pb0.98Te',\n",
    "    'CeFe3CoSb12',\n",
    "    'ZrNiSn',\n",
    "    'Ca3Co4O9',\n",
    "    'La0.8Sr0.2CoO3',\n",
    "    'NbCoSn',\n",
    "    'Sr0.9La0.1TiO3',\n",
    "    'Zn0.95Al0.05O',\n",
    "    'Mg2Si0.98Bi0.02',\n",
    "    'Ca2.7Bi0.3Co4O9',\n",
    "    'Sr0.61Ba0.39Nb2O6',\n",
    "    'Ca0.9Yb0.1MnO3',\n",
    "    'Ba8Ga16Ge30',\n",
    "    'Sr0.9Y0.1TiO3',\n",
    "    'CaMnO3',\n",
    "    'Cu2Se',\n",
    "    'Tl0.02Pb0.98Te',\n",
    "    'Zn0.99Al0.01O',\n",
    "    'Ca2Co2O5',\n",
    "    'Zn0.98Al0.02O',\n",
    "    'In0.25Co4Sb12',\n",
    "    'In0.2Co4Sb12',\n",
    "    'Zr0.35Hf0.35Ti0.3NiSn',\n",
    "    'CuCr0.95Mg0.05O2',\n",
    "    'Sb2Te3',\n",
    "    'Tl2GeTe5',\n",
    "    'Ni2.0Mo6S8',\n",
    "    'CeFe3.5Co0.5Sb12',\n",
    "    'CaMn0.98Nb0.02O3',\n",
    "    'LaFe3CoSb12',\n",
    "    'La0.95Sr0.05CoO3',\n",
    "    'Mo3Te4',\n",
    "    'Ca0.7Y0.3MnO3',\n",
    "    'Tl0.01Pb0.99Te',\n",
    "    'Mg2Si',\n",
    "    'CuCrO2',\n",
    "    'Nd2Cu0.98Ni0.02O4',\n",
    "    'Mn1.3Mo6S8'\n",
    "]\n",
    "\n",
    "# You can access the ranking by index, e.g., materials_ranking[0] will give you the top-ranked material.\n"
   ]
  },
  {
   "cell_type": "code",
   "execution_count": 5,
   "id": "e6fa1e7c",
   "metadata": {},
   "outputs": [
    {
     "name": "stdout",
     "output_type": "stream",
     "text": [
      "[1, 2, 3, 4, 5, 6, 7, 8, 9, 10, 11, 12, 13, 14, 15, 17, 18, 20, 21, 22, 23, 24, 25, 26, 28, 29, 30, 31, 33, 34, 36, 38, 39, 40, 41, 42, 43, 46, 48, 49, 50, 51, 54, 55, 56, 57, 58, 60, 63, 64, 66, 67, 68, 69, 70, 71, 73, 74, 75, 76, 78, 79, 80, 81, 82, 83, 84]\n",
      "[8, 67, 18, 59, 10, 63, 68, 31, 4, 69, 13, 33, 65, 16, 1, 7, 28, 55, 80, 76, 3, 21, 25, 14, 36, 9, 49, 27, 41, 5, 56, 23, 29, 22, 40, 71, 60, 75, 58, 52, 84, 74, 15, 44, 26, 34, 64, 32, 77, 19, 24, 39, 70, 79, 37, 30, 20, 78, 43, 72, 51, 83, 82, 38, 17, 35, 12]\n",
      "SpearmanrResult(correlation=0.24028254449676756, pvalue=0.05016175793265604)\n"
     ]
    }
   ],
   "source": [
    "from scipy import stats\n",
    "compare_a = []\n",
    "compare_t = []\n",
    "for i in answer:\n",
    "    if i in materials_ranking:\n",
    "        compare_a.append(answer.index(i)+1)\n",
    "        compare_t.append(materials_ranking.index(i)+1)\n",
    "res = stats.spearmanr(compare_a, compare_t)\n",
    "print(compare_a)\n",
    "print(compare_t)\n",
    "print(res)"
   ]
  },
  {
   "cell_type": "markdown",
   "id": "c1bea1fc",
   "metadata": {},
   "source": [
    "# original ChatGPT answer:\n",
    "Ranking materials based on their thermoelectric performance can be a complex task and depends on various factors, including electrical conductivity, thermal conductivity, and the Seebeck coefficient. Since I don't have access to the most up-to-date and specific thermoelectric performance data for these materials, I can provide a general ranking based on the properties of common thermoelectric materials. Keep in mind that this ranking may not be accurate for your specific application, as the performance depends on various parameters and conditions.\n",
    "\n",
    "Here's a general ranking of the provided materials from 1 (highest thermoelectric performance) to 84 (lowest thermoelectric performance):\n",
    "\n",
    "Bismuth Antimony Telluride (Bi2Te3)\n",
    "Lead Telluride (PbTe)\n",
    "Silicon-Germanium Alloy (Si0.8Ge0.2)\n",
    "Zinc Antimonide (Zn4Sb3)\n",
    "Strontium Titanium Niobium Oxide (SrTi0.8Nb0.2O3)\n",
    "Bismuth Selenide (Bi2Se3)\n",
    "Calcium Cobaltate (Ca3Co4O9)\n",
    "Copper Selenide (Cu2Se)\n",
    "Magnesium Silicide (Mg2Si)\n",
    "Sodium Cobaltate (NaCo2O4)\n",
    "Barium Strontium Titanate (Ba0.4Sr0.6TiO3)\n",
    "Nickel-based Thermoelectric Materials (Ni0.02Zn0.98O, Ni2.0Mo6S8, Ni1.3Mo6S8)\n",
    "Copper-based Thermoelectric Materials (Cu1.98Se, Cu4.0Mo6S8, Cu2Se)\n",
    "Cerium-based Thermoelectric Materials (CeFe4Sb12, CeFe3CoSb12, CeFe3.5Co0.5Sb12)\n",
    "Cobalt-based Thermoelectric Materials (Ca0.9Bi0.1MnO3, Ca0.9Ho0.1MnO3, Ca0.9Nd0.1MnO3, LaCoO3)\n",
    "Tl-Bi-Te Compound (Tl9BiTe6, Tl2SnTe5, Tl2GeTe5)\n",
    "Zinc Oxide (ZnO, Zn0.95Al0.05O, Zn0.98Al0.02O, Zn0.99Al0.01O)\n",
    "Titanium-based Thermoelectric Materials (Zr0.25Hf0.25Ti0.5NiSn, Zr0.98Nb0.02NiSn, Zr0.5Hf0.5NiSn, ZrNiSn0.98Sb0.02, ZrNiSn, Zr0.35Hf0.35Ti0.3NiSn)\n",
    "Copper-Chromium Oxides (CuCr0.97Mg0.03O2, CuCr0.98Mg0.02O2, CuCr0.95Mg0.05O2, CuCrO2)\n",
    "Perovskite Oxides (La0.98Sr0.02CoO3, La0.8Sr0.2CoO3, Sr0.9La0.1TiO3, Sr0.61Ba0.39Nb2O6, Sr0.9Y0.1TiO3)\n",
    "Rare Earth-based Thermoelectric Materials (Yb14MnSb11, Sm0.5Ca0.5MnO3, La1-xSrxCoO3, La0.95Sr0.05CoO3, LaFe3CoSb12, LaFe3CoSb12)\n",
    "Other Oxides (BaPbO3, Ba8Ga16Ge30, Ca2.7Bi0.3Co4O9, Ca3AlSb3, Ca2Co2O5, Ca0.7Y0.3MnO3, CaMn0.98Nb0.02O3, CaMnO3)\n",
    "Iron-based Thermoelectric Materials (Fe1.94Ti0.06O3, Fe1.3Mo6S8, Cr1.3Mo6S8, Mn1.3Mo6S8)\n",
    "Other Compounds (Nd2CuO4, K2Bi8Se13, AgCrSe2, Mo3Te4)\n",
    "Please note that this ranking is based on general knowledge of thermoelectric materials and properties as of my last update in September 2021. For specific applications or the most up-to-date information, it's essential to refer to recent research and literature on thermoelectric materials. Additionally, the actual performance may vary depending on factors like temperature, doping, and material preparation methods."
   ]
  },
  {
   "cell_type": "markdown",
   "id": "c62be12c",
   "metadata": {},
   "source": [
    "# python list request:\n",
    "convert into a python list, only use formula instead of full name, each formula is an element in the list"
   ]
  },
  {
   "cell_type": "code",
   "execution_count": null,
   "id": "e3e5dbc0",
   "metadata": {},
   "outputs": [],
   "source": []
  }
 ],
 "metadata": {
  "kernelspec": {
   "display_name": "Python 3",
   "language": "python",
   "name": "python3"
  },
  "language_info": {
   "codemirror_mode": {
    "name": "ipython",
    "version": 3
   },
   "file_extension": ".py",
   "mimetype": "text/x-python",
   "name": "python",
   "nbconvert_exporter": "python",
   "pygments_lexer": "ipython3",
   "version": "3.8.8"
  }
 },
 "nbformat": 4,
 "nbformat_minor": 5
}
